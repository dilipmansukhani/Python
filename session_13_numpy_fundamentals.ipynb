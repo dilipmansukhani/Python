{
  "nbformat": 4,
  "nbformat_minor": 0,
  "metadata": {
    "colab": {
      "provenance": []
    },
    "kernelspec": {
      "name": "python3",
      "display_name": "Python 3"
    },
    "language_info": {
      "name": "python"
    }
  },
  "cells": [
    {
      "cell_type": "markdown",
      "source": [
        "### What is numpy?\n",
        "\n",
        "NumPy is the fundamental package for scientific computing in Python. It is a Python library that provides a multidimensional array object, various derived objects (such as masked arrays and matrices), and an assortment of routines for fast operations on arrays, including mathematical, logical, shape manipulation, sorting, selecting, I/O, discrete Fourier transforms, basic linear algebra, basic statistical operations, random simulation and much more.\n",
        "\n",
        "\n",
        "At the core of the NumPy package, is the ndarray object. This encapsulates n-dimensional arrays of homogeneous data types"
      ],
      "metadata": {
        "id": "lFF783PD7ypT"
      }
    },
    {
      "cell_type": "code",
      "source": [
        "'''\n",
        "📘 What is NumPy?\n",
        "NumPy (Numerical Python) is a powerful Python library used for scientific and numerical computing.\n",
        "\n",
        "It provides:\n",
        "\n",
        "✅ A fast, multidimensional array object called ndarray\n",
        "✅ Functions to perform mathematical operations on arrays\n",
        "✅ Tools for linear algebra, statistics, random number generation, Fourier transforms, and more\n",
        "✅ Support for working with large datasets efficiently\n",
        "\n",
        "'''"
      ],
      "metadata": {
        "colab": {
          "base_uri": "https://localhost:8080/",
          "height": 70
        },
        "id": "55dfwuOelIFb",
        "outputId": "f561a859-0760-49a6-91e6-0f12c80e356a"
      },
      "execution_count": 73,
      "outputs": [
        {
          "output_type": "execute_result",
          "data": {
            "text/plain": [
              "'\\n📘 What is NumPy?\\nNumPy (Numerical Python) is a powerful Python library used for scientific and numerical computing.\\n\\nIt provides:\\n\\n✅ A fast, multidimensional array object called ndarray\\n✅ Functions to perform mathematical operations on arrays\\n✅ Tools for linear algebra, statistics, random number generation, Fourier transforms, and more\\n✅ Support for working with large datasets efficiently\\n\\n'"
            ],
            "application/vnd.google.colaboratory.intrinsic+json": {
              "type": "string"
            }
          },
          "metadata": {},
          "execution_count": 73
        }
      ]
    },
    {
      "cell_type": "markdown",
      "source": [
        "### Numpy Arrays Vs Python Sequences\n",
        "\n",
        "- NumPy arrays have a fixed size at creation, unlike Python lists (which can grow dynamically). Changing the size of an ndarray will create a new array and delete the original.\n",
        "\n",
        "- The elements in a NumPy array are all required to be of the same data type, and thus will be the same size in memory.\n",
        "\n",
        "- NumPy arrays facilitate advanced mathematical and other types of operations on large numbers of data. Typically, such operations are executed more efficiently and with less code than is possible using Python’s built-in sequences.\n",
        "\n",
        "- A growing plethora of scientific and mathematical Python-based packages are using NumPy arrays; though these typically support Python-sequence input, they convert such input to NumPy arrays prior to processing, and they often output NumPy arrays."
      ],
      "metadata": {
        "id": "HPRzhmwiZkOP"
      }
    },
    {
      "cell_type": "code",
      "source": [
        "'''\n",
        "🔄 NumPy Arrays vs Python Sequences (Lists, Tuples)\n",
        "1️⃣ Size Flexibility\n",
        "Python Lists:\n",
        "✔️ Dynamic — You can change the size (append, remove)\n",
        "❌ Less efficient for numerical computation\n",
        "\n",
        "NumPy Arrays:\n",
        "❌ Fixed size — Once created, cannot be resized directly\n",
        "✔️ Efficient memory usage and fast operations\n",
        "'''"
      ],
      "metadata": {
        "colab": {
          "base_uri": "https://localhost:8080/",
          "height": 52
        },
        "id": "t7P4cvdKlmvT",
        "outputId": "2e3535b5-2a7f-486a-9f44-4e1fed55c019"
      },
      "execution_count": 74,
      "outputs": [
        {
          "output_type": "execute_result",
          "data": {
            "text/plain": [
              "'\\n🔄 NumPy Arrays vs Python Sequences (Lists, Tuples)\\n1️⃣ Size Flexibility\\nPython Lists:\\n✔️ Dynamic — You can change the size (append, remove)\\n❌ Less efficient for numerical computation\\n\\nNumPy Arrays:\\n❌ Fixed size — Once created, cannot be resized directly\\n✔️ Efficient memory usage and fast operations\\n'"
            ],
            "application/vnd.google.colaboratory.intrinsic+json": {
              "type": "string"
            }
          },
          "metadata": {},
          "execution_count": 74
        }
      ]
    },
    {
      "cell_type": "code",
      "source": [
        "'''\n",
        "2️⃣ Data Type (dtype)\n",
        "Python Lists:\n",
        "✔️ Can hold mixed data types\n",
        "❌ Slower for numeric processing\n",
        "\n",
        "NumPy Arrays:\n",
        "❌ Must be of the same data type (homogeneous)\n",
        "✔️ Faster and takes less memory\n",
        "\n",
        "python\n",
        "Copy\n",
        "Edit\n",
        "'''"
      ],
      "metadata": {
        "colab": {
          "base_uri": "https://localhost:8080/",
          "height": 52
        },
        "id": "PnPnDvRPlr7z",
        "outputId": "b4c3f668-071c-4119-caaa-63db13191847"
      },
      "execution_count": 75,
      "outputs": [
        {
          "output_type": "execute_result",
          "data": {
            "text/plain": [
              "'\\n2️⃣ Data Type (dtype)\\nPython Lists:\\n✔️ Can hold mixed data types\\n❌ Slower for numeric processing\\n\\nNumPy Arrays:\\n❌ Must be of the same data type (homogeneous)\\n✔️ Faster and takes less memory\\n\\npython\\nCopy\\nEdit\\n'"
            ],
            "application/vnd.google.colaboratory.intrinsic+json": {
              "type": "string"
            }
          },
          "metadata": {},
          "execution_count": 75
        }
      ]
    },
    {
      "cell_type": "code",
      "source": [
        "'''\n",
        "3️⃣ Performance\n",
        "NumPy arrays are way faster and more memory-efficient than Python lists for large data and mathematical operations.\n",
        "\n",
        "Vectorized operations in NumPy allow batch processing without explicit loops.\n",
        "\n",
        "python\n",
        "Copy\n",
        "Edit\n",
        "\n",
        "'''"
      ],
      "metadata": {
        "colab": {
          "base_uri": "https://localhost:8080/",
          "height": 52
        },
        "id": "u4I4tH95lrvW",
        "outputId": "7ff6522f-b7ea-42e5-97e7-45a3d9dd4021"
      },
      "execution_count": 76,
      "outputs": [
        {
          "output_type": "execute_result",
          "data": {
            "text/plain": [
              "'\\n3️⃣ Performance\\nNumPy arrays are way faster and more memory-efficient than Python lists for large data and mathematical operations.\\n\\nVectorized operations in NumPy allow batch processing without explicit loops.\\n\\npython\\nCopy\\nEdit\\n\\n'"
            ],
            "application/vnd.google.colaboratory.intrinsic+json": {
              "type": "string"
            }
          },
          "metadata": {},
          "execution_count": 76
        }
      ]
    },
    {
      "cell_type": "code",
      "source": [
        "'''\n",
        "4️⃣ Mathematical Power\n",
        "NumPy provides a large number of built-in mathematical functions (like mean, std, sin, log, etc.)\n",
        "\n",
        "Python lists require for loops or external functions.\n",
        "\n",
        "python\n",
        "Copy\n",
        "Edit\n",
        "\n",
        "'''"
      ],
      "metadata": {
        "colab": {
          "base_uri": "https://localhost:8080/",
          "height": 52
        },
        "id": "ZLrHBZ0Wlrsm",
        "outputId": "dab4c309-760d-4046-a0d9-e2d16ee73a76"
      },
      "execution_count": 77,
      "outputs": [
        {
          "output_type": "execute_result",
          "data": {
            "text/plain": [
              "'\\n4️⃣ Mathematical Power\\nNumPy provides a large number of built-in mathematical functions (like mean, std, sin, log, etc.)\\n\\nPython lists require for loops or external functions.\\n\\npython\\nCopy\\nEdit\\n\\n'"
            ],
            "application/vnd.google.colaboratory.intrinsic+json": {
              "type": "string"
            }
          },
          "metadata": {},
          "execution_count": 77
        }
      ]
    },
    {
      "cell_type": "code",
      "source": [
        "'''\n",
        "5️⃣ Used in Scientific Libraries\n",
        "Libraries like Pandas, Scikit-Learn, TensorFlow, OpenCV, etc.\n",
        "🔁 Accept Python lists but internally convert them to NumPy arrays.\n",
        "\n",
        "'''"
      ],
      "metadata": {
        "colab": {
          "base_uri": "https://localhost:8080/",
          "height": 35
        },
        "id": "uFihlOmxl6G3",
        "outputId": "7a85cd27-beb5-4313-ded0-9eb15e9c4360"
      },
      "execution_count": 78,
      "outputs": [
        {
          "output_type": "execute_result",
          "data": {
            "text/plain": [
              "'\\n5️⃣ Used in Scientific Libraries\\nLibraries like Pandas, Scikit-Learn, TensorFlow, OpenCV, etc.\\n🔁 Accept Python lists but internally convert them to NumPy arrays.\\n\\n'"
            ],
            "application/vnd.google.colaboratory.intrinsic+json": {
              "type": "string"
            }
          },
          "metadata": {},
          "execution_count": 78
        }
      ]
    },
    {
      "cell_type": "markdown",
      "source": [
        "### Creating Numpy Arrays"
      ],
      "metadata": {
        "id": "0PyrZ724szaG"
      }
    },
    {
      "cell_type": "code",
      "source": [
        "# Importing the NumPy library (used for numerical computations)\n",
        "import numpy as np\n",
        "\n",
        "# Creating a 1-dimensional NumPy array using a Python list\n",
        "a = np.array([1, 2, 3])\n",
        "\n",
        "# Printing the created NumPy array\n",
        "print(a)\n"
      ],
      "metadata": {
        "colab": {
          "base_uri": "https://localhost:8080/"
        },
        "id": "V4AVNXrts3sL",
        "outputId": "f64a75b8-4c7b-4167-cd3b-716ae1fe0aa2"
      },
      "execution_count": 79,
      "outputs": [
        {
          "output_type": "stream",
          "name": "stdout",
          "text": [
            "[1 2 3]\n"
          ]
        }
      ]
    },
    {
      "cell_type": "code",
      "source": [
        "\n",
        "# 🌟 2D ARRAY EXAMPLE\n",
        "# Creating a 2D NumPy array (matrix with rows and columns)\n",
        "b = np.array([[1, 2, 3],\n",
        "              [4, 5, 6]])\n",
        "\n",
        "print(\"2D Array:\")\n",
        "print(b)\n"
      ],
      "metadata": {
        "colab": {
          "base_uri": "https://localhost:8080/"
        },
        "id": "AAfxD1kCs6R5",
        "outputId": "2ace35d8-731e-4c74-934e-542cefac7074"
      },
      "execution_count": 80,
      "outputs": [
        {
          "output_type": "stream",
          "name": "stdout",
          "text": [
            "2D Array:\n",
            "[[1 2 3]\n",
            " [4 5 6]]\n"
          ]
        }
      ]
    },
    {
      "cell_type": "code",
      "source": [
        "\n",
        "# 🌟 Creating a 3D NumPy array\n",
        "c = np.array([\n",
        "                [[1, 2],\n",
        "                 [3, 4]],\n",
        "\n",
        "                [[5, 6],\n",
        "                 [7, 8]]\n",
        "             ])\n",
        "\n",
        "print(\"3D Array:\")\n",
        "print(c)\n"
      ],
      "metadata": {
        "colab": {
          "base_uri": "https://localhost:8080/"
        },
        "id": "MyrHdd6J6CrF",
        "outputId": "58cd7a02-d4bf-4c59-ed79-4e465d7cd9fb"
      },
      "execution_count": 81,
      "outputs": [
        {
          "output_type": "stream",
          "name": "stdout",
          "text": [
            "3D Array:\n",
            "[[[1 2]\n",
            "  [3 4]]\n",
            "\n",
            " [[5 6]\n",
            "  [7 8]]]\n"
          ]
        }
      ]
    },
    {
      "cell_type": "code",
      "source": [
        "# Creating a NumPy array with specified data type as float\n",
        "a = np.array([1, 2, 3], dtype=float)\n",
        "\n",
        "print(\"Array with float dtype:\")\n",
        "print(a)\n"
      ],
      "metadata": {
        "colab": {
          "base_uri": "https://localhost:8080/"
        },
        "id": "FM8AwUOdFqC7",
        "outputId": "c4fc9e89-b25d-4877-e6c9-557f8293b14c"
      },
      "execution_count": 82,
      "outputs": [
        {
          "output_type": "stream",
          "name": "stdout",
          "text": [
            "Array with float dtype:\n",
            "[1. 2. 3.]\n"
          ]
        }
      ]
    },
    {
      "cell_type": "code",
      "source": [
        "# Creating an array from 1 to 10 with step size of 2\n",
        "a = np.arange(1, 11, 2)\n",
        "print(\"Array using np.arange():\")\n",
        "print(a)\n"
      ],
      "metadata": {
        "colab": {
          "base_uri": "https://localhost:8080/"
        },
        "id": "ZY187Au_s8vm",
        "outputId": "199e6a59-b4d7-4ab6-e7ee-a16ce0343548"
      },
      "execution_count": 83,
      "outputs": [
        {
          "output_type": "stream",
          "name": "stdout",
          "text": [
            "Array using np.arange():\n",
            "[1 3 5 7 9]\n"
          ]
        }
      ]
    },
    {
      "cell_type": "code",
      "source": [
        "# arange  with reshape\n",
        "np.arange(16).reshape(2,2,2,2)\n",
        "\n",
        "\n"
      ],
      "metadata": {
        "colab": {
          "base_uri": "https://localhost:8080/"
        },
        "id": "3Gc7BaJZwl7e",
        "outputId": "2af7f7da-4045-43c6-9177-bf8504a96f67"
      },
      "execution_count": 84,
      "outputs": [
        {
          "output_type": "execute_result",
          "data": {
            "text/plain": [
              "array([[[[ 0,  1],\n",
              "         [ 2,  3]],\n",
              "\n",
              "        [[ 4,  5],\n",
              "         [ 6,  7]]],\n",
              "\n",
              "\n",
              "       [[[ 8,  9],\n",
              "         [10, 11]],\n",
              "\n",
              "        [[12, 13],\n",
              "         [14, 15]]]])"
            ]
          },
          "metadata": {},
          "execution_count": 84
        }
      ]
    },
    {
      "cell_type": "code",
      "source": [
        "# Create a 1D array of numbers from 0 to 15 (total 16 elements)\n",
        "a = np.arange(16)\n",
        "\n",
        "# Reshape the 1D array into a 4D array of shape (2, 2, 2, 2)\n",
        "b = a.reshape(2, 2, 2, 2)\n",
        "\n",
        "print(\"4D Reshaped Array:\")\n",
        "print(b)\n"
      ],
      "metadata": {
        "id": "yO_dGybOvtXR",
        "colab": {
          "base_uri": "https://localhost:8080/"
        },
        "outputId": "36e4244f-3c02-43dc-b4a8-1b030a625917"
      },
      "execution_count": 85,
      "outputs": [
        {
          "output_type": "stream",
          "name": "stdout",
          "text": [
            "4D Reshaped Array:\n",
            "[[[[ 0  1]\n",
            "   [ 2  3]]\n",
            "\n",
            "  [[ 4  5]\n",
            "   [ 6  7]]]\n",
            "\n",
            "\n",
            " [[[ 8  9]\n",
            "   [10 11]]\n",
            "\n",
            "  [[12 13]\n",
            "   [14 15]]]]\n"
          ]
        }
      ]
    },
    {
      "cell_type": "code",
      "source": [
        "# Create a 2D array (matrix) of shape (3 rows, 4 columns) filled with 1s\n",
        "ones_array = np.ones((3, 4))\n",
        "print(\"Array of ones (3x4):\")\n",
        "print(ones_array)\n"
      ],
      "metadata": {
        "colab": {
          "base_uri": "https://localhost:8080/"
        },
        "id": "R2BYpYcGs-9l",
        "outputId": "513eda98-e44e-4267-c478-24a617fa1e21"
      },
      "execution_count": 86,
      "outputs": [
        {
          "output_type": "stream",
          "name": "stdout",
          "text": [
            "Array of ones (3x4):\n",
            "[[1. 1. 1. 1.]\n",
            " [1. 1. 1. 1.]\n",
            " [1. 1. 1. 1.]]\n"
          ]
        }
      ]
    },
    {
      "cell_type": "code",
      "source": [
        "np.zeros((3,4))# Create a 2D array of shape (3, 4) filled with 0s\n",
        "zeros_array = np.zeros((3, 4))\n",
        "print(\"Array of zeros (3x4):\")\n",
        "print(zeros_array)\n"
      ],
      "metadata": {
        "colab": {
          "base_uri": "https://localhost:8080/"
        },
        "id": "vOjv_Euj8HGR",
        "outputId": "90ddf96f-5940-4142-d841-1180c7ecd6d6"
      },
      "execution_count": 87,
      "outputs": [
        {
          "output_type": "stream",
          "name": "stdout",
          "text": [
            "Array of zeros (3x4):\n",
            "[[0. 0. 0. 0.]\n",
            " [0. 0. 0. 0.]\n",
            " [0. 0. 0. 0.]]\n"
          ]
        }
      ]
    },
    {
      "cell_type": "code",
      "source": [
        "\n",
        "# Create a 2D array of shape (3, 4) filled with random float numbers between 0 and 1\n",
        "arr = np.random.random((3, 4))\n",
        "print(\"Random array (3x4):\")\n",
        "print(arr)\n"
      ],
      "metadata": {
        "colab": {
          "base_uri": "https://localhost:8080/"
        },
        "id": "fYEeYi7itCRM",
        "outputId": "03f4dea4-56bb-4510-fe6d-7aca60afb6e8"
      },
      "execution_count": 88,
      "outputs": [
        {
          "output_type": "stream",
          "name": "stdout",
          "text": [
            "Random array (3x4):\n",
            "[[0.18426825 0.35937586 0.69251514 0.72119077]\n",
            " [0.70252618 0.41600816 0.34709399 0.84734577]\n",
            " [0.36132877 0.37586105 0.00546596 0.54077535]]\n"
          ]
        }
      ]
    },
    {
      "cell_type": "code",
      "source": [
        "# Create 10 equally spaced numbers between -10 and 10\n",
        "a = np.linspace(-10, 10, 10)\n",
        "print(\"Equally spaced values (float):\")\n",
        "print(a)\n"
      ],
      "metadata": {
        "colab": {
          "base_uri": "https://localhost:8080/"
        },
        "id": "vel7WrgltE3P",
        "outputId": "33b9763a-2d9b-4697-c931-34d62fb1d840"
      },
      "execution_count": 89,
      "outputs": [
        {
          "output_type": "stream",
          "name": "stdout",
          "text": [
            "Equally spaced values (float):\n",
            "[-10.          -7.77777778  -5.55555556  -3.33333333  -1.11111111\n",
            "   1.11111111   3.33333333   5.55555556   7.77777778  10.        ]\n"
          ]
        }
      ]
    },
    {
      "cell_type": "code",
      "source": [
        "# np.identity\n",
        "np.identity(3)# Create a 3x3 identity matrix\n",
        "a = np.identity(3)\n",
        "print(\"3x3 Identity Matrix:\")\n",
        "print(a)\n"
      ],
      "metadata": {
        "colab": {
          "base_uri": "https://localhost:8080/"
        },
        "id": "ewyMuXh1tJzi",
        "outputId": "26f2b491-3884-47b1-e105-93f5fc34b165"
      },
      "execution_count": 90,
      "outputs": [
        {
          "output_type": "stream",
          "name": "stdout",
          "text": [
            "3x3 Identity Matrix:\n",
            "[[1. 0. 0.]\n",
            " [0. 1. 0.]\n",
            " [0. 0. 1.]]\n"
          ]
        }
      ]
    },
    {
      "cell_type": "markdown",
      "source": [
        "### Array Attributes"
      ],
      "metadata": {
        "id": "LphXpjZJtNyI"
      }
    },
    {
      "cell_type": "code",
      "source": [
        "# 1D array of 10 integers\n",
        "a1 = np.arange(10, dtype=np.int32)\n",
        "# Output: [0 1 2 3 4 5 6 7 8 9]\n",
        "\n",
        "# 2D array of shape (3, 4) with float values from 0 to 11\n",
        "a2 = np.arange(12, dtype=float).reshape(3, 4)\n",
        "# Output:\n",
        "# [[ 0.  1.  2.  3.]\n",
        "#  [ 4.  5.  6.  7.]\n",
        "#  [ 8.  9. 10. 11.]]\n",
        "\n",
        "# 3D array of shape (2, 2, 2) with integers from 0 to 7\n",
        "a3 = np.arange(8).reshape(2, 2, 2)\n",
        "print(\"3D array (a3):\")\n",
        "print(a3)\n"
      ],
      "metadata": {
        "colab": {
          "base_uri": "https://localhost:8080/"
        },
        "id": "UXnB5dIEFOgD",
        "outputId": "3363cad6-f23f-4fb7-bd41-c0cad0031009"
      },
      "execution_count": 91,
      "outputs": [
        {
          "output_type": "stream",
          "name": "stdout",
          "text": [
            "3D array (a3):\n",
            "[[[0 1]\n",
            "  [2 3]]\n",
            "\n",
            " [[4 5]\n",
            "  [6 7]]]\n"
          ]
        }
      ]
    },
    {
      "cell_type": "code",
      "source": [
        "# ndim\n",
        "a3.ndim\n",
        "\n",
        "#. tells about the direction"
      ],
      "metadata": {
        "colab": {
          "base_uri": "https://localhost:8080/"
        },
        "id": "qib4oDFptRKN",
        "outputId": "680c91ce-f3ce-4eae-cceb-17b7dc70265d"
      },
      "execution_count": 92,
      "outputs": [
        {
          "output_type": "execute_result",
          "data": {
            "text/plain": [
              "3"
            ]
          },
          "metadata": {},
          "execution_count": 92
        }
      ]
    },
    {
      "cell_type": "code",
      "source": [
        "import numpy as np  # Importing numpy library\n",
        "\n",
        "# Creating a 3D array with shape (2, 2, 2)\n",
        "a3 = np.arange(8).reshape(2, 2, 2)\n",
        "\n",
        "# Displaying the array\n",
        "print(\"Array a3:\")\n",
        "print(a3)\n",
        "\n",
        "# Checking the shape of the array\n",
        "print(\"\\nShape of a3:\")\n",
        "print(a3.shape)  # Output: (2, 2, 2)\n"
      ],
      "metadata": {
        "colab": {
          "base_uri": "https://localhost:8080/"
        },
        "id": "InUvH8KGtSRv",
        "outputId": "fe961777-44c3-47f0-dd46-236beff3dd72"
      },
      "execution_count": 93,
      "outputs": [
        {
          "output_type": "stream",
          "name": "stdout",
          "text": [
            "Array a3:\n",
            "[[[0 1]\n",
            "  [2 3]]\n",
            "\n",
            " [[4 5]\n",
            "  [6 7]]]\n",
            "\n",
            "Shape of a3:\n",
            "(2, 2, 2)\n"
          ]
        }
      ]
    },
    {
      "cell_type": "code",
      "source": [
        "# Array a2 is already created with shape (3, 4)\n",
        "# Means: 3 rows × 4 columns = 12 elements total\n",
        "\n",
        "# .size → total number of elements in the array\n",
        "print(\"Total number of elements in a2:\", a2.size)\n",
        "\n",
        "# Also print the array to verify\n",
        "print(\"Array a2:\")\n",
        "print(a2)\n"
      ],
      "metadata": {
        "colab": {
          "base_uri": "https://localhost:8080/"
        },
        "id": "9Dko5610tT-Z",
        "outputId": "00e779cb-11c4-4b12-9454-d1d7216fe9b2"
      },
      "execution_count": 94,
      "outputs": [
        {
          "output_type": "stream",
          "name": "stdout",
          "text": [
            "Total number of elements in a2: 12\n",
            "Array a2:\n",
            "[[ 0.  1.  2.  3.]\n",
            " [ 4.  5.  6.  7.]\n",
            " [ 8.  9. 10. 11.]]\n"
          ]
        }
      ]
    },
    {
      "cell_type": "code",
      "source": [
        "# itemsize\n",
        "# Getting the total number of elements using .size\n",
        "print(\"\\nTotal number of elements in a2:\")\n",
        "print(a2.size)  # Output: 12\n"
      ],
      "metadata": {
        "colab": {
          "base_uri": "https://localhost:8080/"
        },
        "id": "wDFdHtH3tV1Z",
        "outputId": "f9cb7387-68fe-4c6b-f8c5-b9d0f07b7796"
      },
      "execution_count": 95,
      "outputs": [
        {
          "output_type": "stream",
          "name": "stdout",
          "text": [
            "\n",
            "Total number of elements in a2:\n",
            "12\n"
          ]
        }
      ]
    },
    {
      "cell_type": "code",
      "source": [
        "# Assume: np already imported and a1, a2, a3 arrays already created like below:\n",
        "\n",
        "# a1: 1D array of integers (int32)\n",
        "a1 = np.arange(10, dtype=np.int32)\n",
        "\n",
        "# a2: 2D array of floats (float64)\n",
        "a2 = np.arange(12, dtype=float).reshape(3, 4)\n",
        "\n",
        "# a3: 3D array of default integers (int64, depending on system)\n",
        "a3 = np.arange(8).reshape(2, 2, 2)\n",
        "\n",
        "# Checking data types of each array\n",
        "print(\"Data type of a1:\", a1.dtype)  # int32\n",
        "print(\"Data type of a2:\", a2.dtype)  # float64\n",
        "print(\"Data type of a3:\", a3.dtype)  # int64 (default for np.arange)\n"
      ],
      "metadata": {
        "colab": {
          "base_uri": "https://localhost:8080/"
        },
        "id": "Pik7FgEVtXDj",
        "outputId": "7670455f-958e-463d-827a-54356f0b9ae5"
      },
      "execution_count": 96,
      "outputs": [
        {
          "output_type": "stream",
          "name": "stdout",
          "text": [
            "Data type of a1: int32\n",
            "Data type of a2: float64\n",
            "Data type of a3: int64\n"
          ]
        }
      ]
    },
    {
      "cell_type": "markdown",
      "source": [
        "### Changing Datatype"
      ],
      "metadata": {
        "id": "7Ase0eFWtcFl"
      }
    },
    {
      "cell_type": "code",
      "source": [
        "# Assume a3 already created like this:\n",
        "a3 = np.arange(8).reshape(2, 2, 2)  # Default dtype is usually int64\n",
        "\n",
        "# Convert a3 to int32 (32-bit integer) using astype\n",
        "a3_converted = a3.astype(np.int32)\n",
        "\n",
        "print(\"Original dtype of a3:\", a3.dtype)          # Usually int64\n",
        "print(\"Converted dtype of a3_converted:\", a3_converted.dtype)  # Now int32\n",
        "\n"
      ],
      "metadata": {
        "colab": {
          "base_uri": "https://localhost:8080/"
        },
        "id": "DZPEFqhotbFS",
        "outputId": "ea319694-80f1-4776-ac68-8cbedb481aac"
      },
      "execution_count": 97,
      "outputs": [
        {
          "output_type": "stream",
          "name": "stdout",
          "text": [
            "Original dtype of a3: int64\n",
            "Converted dtype of a3_converted: int32\n"
          ]
        }
      ]
    },
    {
      "cell_type": "markdown",
      "source": [
        "### Array Operations"
      ],
      "metadata": {
        "id": "k-y-aaV9u52l"
      }
    },
    {
      "cell_type": "code",
      "source": [
        "# Create a 3x4 array with values from 0 to 11\n",
        "a1 = np.arange(12).reshape(3, 4)\n",
        "\n",
        "# Create another 3x4 array with values from 12 to 23\n",
        "a2 = np.arange(12, 24).reshape(3, 4)\n",
        "\n",
        "# Print the second array\n",
        "print(\"Array a2:\")\n",
        "print(a2)\n"
      ],
      "metadata": {
        "colab": {
          "base_uri": "https://localhost:8080/"
        },
        "id": "mIk8tk53HnOW",
        "outputId": "084ba439-b933-4c60-ae73-443a31d49e74"
      },
      "execution_count": 98,
      "outputs": [
        {
          "output_type": "stream",
          "name": "stdout",
          "text": [
            "Array a2:\n",
            "[[12 13 14 15]\n",
            " [16 17 18 19]\n",
            " [20 21 22 23]]\n"
          ]
        }
      ]
    },
    {
      "cell_type": "code",
      "source": [
        "# a1 is a 3x4 array with values from 0 to 11\n",
        "# Let's square each element using scalar operation\n",
        "\n",
        "print(\"Original a1 array:\")\n",
        "print(a1)\n",
        "\n",
        "# Perform element-wise square operation\n",
        "print(\"\\nSquared a1 (a1 ** 2):\")\n",
        "print(a1 ** 2)\n"
      ],
      "metadata": {
        "colab": {
          "base_uri": "https://localhost:8080/"
        },
        "id": "vtQrWQKD87Fn",
        "outputId": "e41f77e9-96a1-4f0e-8452-3aa3b35b1b78"
      },
      "execution_count": 99,
      "outputs": [
        {
          "output_type": "stream",
          "name": "stdout",
          "text": [
            "Original a1 array:\n",
            "[[ 0  1  2  3]\n",
            " [ 4  5  6  7]\n",
            " [ 8  9 10 11]]\n",
            "\n",
            "Squared a1 (a1 ** 2):\n",
            "[[  0   1   4   9]\n",
            " [ 16  25  36  49]\n",
            " [ 64  81 100 121]]\n"
          ]
        }
      ]
    },
    {
      "cell_type": "code",
      "source": [
        "# relational\n",
        "a2 == 15# a2 is already defined as:\n",
        "# [[12 13 14 15]\n",
        "#  [16 17 18 19]\n",
        "#  [20 21 22 23]]\n",
        "\n",
        "# Check which elements in a2 are equal to 15\n",
        "print(\"Relational check (a2 == 15):\")\n",
        "print(a2 == 15)\n"
      ],
      "metadata": {
        "colab": {
          "base_uri": "https://localhost:8080/"
        },
        "id": "mCgPxTzQrtte",
        "outputId": "10aa6f89-09ca-41e8-c846-5cd86fb5b41d"
      },
      "execution_count": 100,
      "outputs": [
        {
          "output_type": "stream",
          "name": "stdout",
          "text": [
            "Relational check (a2 == 15):\n",
            "[[False False False  True]\n",
            " [False False False False]\n",
            " [False False False False]]\n"
          ]
        }
      ]
    },
    {
      "cell_type": "code",
      "source": [
        "# a1 and a2 must be of the same shape\n",
        "# a1 = [[ 0  1  2  3]\n",
        "#       [ 4  5  6  7]\n",
        "#       [ 8  9 10 11]]\n",
        "\n",
        "# a2 = [[12 13 14 15]\n",
        "#       [16 17 18 19]\n",
        "#       [20 21 22 23]]\n",
        "\n",
        "# Element-wise exponentiation: a1 ** a2\n",
        "print(\"a1:\")\n",
        "print(a1)\n",
        "\n",
        "print(\"\\na2:\")\n",
        "print(a2)\n",
        "\n",
        "print(\"\\nElement-wise power (a1 ** a2):\")\n",
        "print(a1 ** a2)\n"
      ],
      "metadata": {
        "colab": {
          "base_uri": "https://localhost:8080/"
        },
        "id": "E2S3xDRxrt5D",
        "outputId": "57900dd8-54b3-41b2-926e-44444cb6c7a0"
      },
      "execution_count": 101,
      "outputs": [
        {
          "output_type": "stream",
          "name": "stdout",
          "text": [
            "a1:\n",
            "[[ 0  1  2  3]\n",
            " [ 4  5  6  7]\n",
            " [ 8  9 10 11]]\n",
            "\n",
            "a2:\n",
            "[[12 13 14 15]\n",
            " [16 17 18 19]\n",
            " [20 21 22 23]]\n",
            "\n",
            "Element-wise power (a1 ** a2):\n",
            "[[                   0                    1                16384\n",
            "              14348907]\n",
            " [          4294967296         762939453125      101559956668416\n",
            "     11398895185373143]\n",
            " [ 1152921504606846976 -1261475310744950487  1864712049423024128\n",
            "   6839173302027254275]]\n"
          ]
        }
      ]
    },
    {
      "cell_type": "markdown",
      "source": [
        "### Array Functions"
      ],
      "metadata": {
        "id": "AQZgntYTu8ot"
      }
    },
    {
      "cell_type": "code",
      "source": [
        "# Step 1: Generate a 3x3 matrix with random float values between 0 and 1\n",
        "a1 = np.random.random((3, 3))\n",
        "\n",
        "# Step 2: Multiply each element by 100 to scale to 0–100 range\n",
        "a1 = a1 * 100\n",
        "\n",
        "# Step 3: Round the values to nearest integer\n",
        "a1 = np.round(a1)\n",
        "\n",
        "# Final output\n",
        "print(\"Random 3x3 matrix with values between 0–100:\")\n",
        "print(a1)\n"
      ],
      "metadata": {
        "colab": {
          "base_uri": "https://localhost:8080/"
        },
        "id": "CHUj0a_dIP4F",
        "outputId": "1f1bc4fd-b334-409d-9c8a-eef1a8ca66bb"
      },
      "execution_count": 102,
      "outputs": [
        {
          "output_type": "stream",
          "name": "stdout",
          "text": [
            "Random 3x3 matrix with values between 0–100:\n",
            "[[10. 36. 87.]\n",
            " [17. 42. 71.]\n",
            " [80. 84.  7.]]\n"
          ]
        }
      ]
    },
    {
      "cell_type": "code",
      "source": [
        "# a1: matrix hona chahiye, jisme hum axis=0 (column-wise) operation kar rahe hain\n",
        "\n",
        "# Column-wise product (axis=0)\n",
        "print(\"Column-wise Product:\")\n",
        "print(np.prod(a1, axis=0))  # Each column ke values ka product\n",
        "\n",
        "# Row-wise product (axis=1)\n",
        "print(\"\\nRow-wise Product:\")\n",
        "print(np.prod(a1, axis=1))  # Each row ke values ka product\n",
        "\n",
        "# Matrix also print kar dete hain for reference\n",
        "print(\"\\nOriginal Matrix (a1):\")\n",
        "print(a1)\n"
      ],
      "metadata": {
        "colab": {
          "base_uri": "https://localhost:8080/"
        },
        "id": "J1EWNET29Urx",
        "outputId": "e0762b66-1acf-44a0-ff94-3b82d543ba21"
      },
      "execution_count": 103,
      "outputs": [
        {
          "output_type": "stream",
          "name": "stdout",
          "text": [
            "Column-wise Product:\n",
            "[ 13600. 127008.  43239.]\n",
            "\n",
            "Row-wise Product:\n",
            "[31320. 50694. 47040.]\n",
            "\n",
            "Original Matrix (a1):\n",
            "[[10. 36. 87.]\n",
            " [17. 42. 71.]\n",
            " [80. 84.  7.]]\n"
          ]
        }
      ]
    },
    {
      "cell_type": "code",
      "source": [
        "# Mean (average) of each row\n",
        "print(\"Row-wise Mean:\")\n",
        "print(np.mean(a1, axis=1))  # axis=1 → row-wise\n",
        "\n",
        "# Median of each row\n",
        "print(\"\\nRow-wise Median:\")\n",
        "print(np.median(a1, axis=1))\n",
        "\n",
        "# Standard Deviation (spread of data)\n",
        "print(\"\\nRow-wise Standard Deviation:\")\n",
        "print(np.std(a1, axis=1))\n",
        "\n",
        "# Variance (square of std)\n",
        "print(\"\\nRow-wise Variance:\")\n",
        "print(np.var(a1, axis=1))\n",
        "\n",
        "# Reference matrix\n",
        "print(\"\\nOriginal Matrix (a1):\")\n",
        "print(a1)\n"
      ],
      "metadata": {
        "colab": {
          "base_uri": "https://localhost:8080/"
        },
        "id": "JAlMLFkds9KC",
        "outputId": "b93c4ad8-2b31-4ed8-e592-f8c9870a1ecb"
      },
      "execution_count": 104,
      "outputs": [
        {
          "output_type": "stream",
          "name": "stdout",
          "text": [
            "Row-wise Mean:\n",
            "[44.33333333 43.33333333 57.        ]\n",
            "\n",
            "Row-wise Median:\n",
            "[36. 42. 80.]\n",
            "\n",
            "Row-wise Standard Deviation:\n",
            "[31.98263418 22.06555888 35.39303133]\n",
            "\n",
            "Row-wise Variance:\n",
            "[1022.88888889  486.88888889 1252.66666667]\n",
            "\n",
            "Original Matrix (a1):\n",
            "[[10. 36. 87.]\n",
            " [17. 42. 71.]\n",
            " [80. 84.  7.]]\n"
          ]
        }
      ]
    },
    {
      "cell_type": "code",
      "source": [
        "# trigonomoetric functions\n",
        "np.sin(a1)"
      ],
      "metadata": {
        "colab": {
          "base_uri": "https://localhost:8080/"
        },
        "id": "vwLoQQVqs-m-",
        "outputId": "439e49a5-8f80-41d2-c7b0-a2738081f7f6"
      },
      "execution_count": 105,
      "outputs": [
        {
          "output_type": "execute_result",
          "data": {
            "text/plain": [
              "array([[-0.54402111, -0.99177885, -0.82181784],\n",
              "       [-0.96139749, -0.91652155,  0.95105465],\n",
              "       [-0.99388865,  0.73319032,  0.6569866 ]])"
            ]
          },
          "metadata": {},
          "execution_count": 105
        }
      ]
    },
    {
      "cell_type": "code",
      "source": [
        "\n",
        "\n",
        "# Create two compatible matrices\n",
        "a2 = np.arange(12).reshape(3,4)     # Shape: (3, 4)\n",
        "a3 = np.arange(12,24).reshape(4,3)  # Shape: (4, 3)\n",
        "\n",
        "# Dot Product\n",
        "result = np.dot(a2, a3)\n",
        "\n",
        "print(\"a2 shape:\", a2.shape)\n",
        "print(\"a3 shape:\", a3.shape)\n",
        "print(\"Dot Product Result:\\n\", result)\n"
      ],
      "metadata": {
        "colab": {
          "base_uri": "https://localhost:8080/"
        },
        "id": "RoEtYuiytFm1",
        "outputId": "708cc5ca-7048-4bab-9543-75ff0a7e34b8"
      },
      "execution_count": 106,
      "outputs": [
        {
          "output_type": "stream",
          "name": "stdout",
          "text": [
            "a2 shape: (3, 4)\n",
            "a3 shape: (4, 3)\n",
            "Dot Product Result:\n",
            " [[114 120 126]\n",
            " [378 400 422]\n",
            " [642 680 718]]\n"
          ]
        }
      ]
    },
    {
      "cell_type": "code",
      "source": [
        "# log and exponents\n",
        "\n",
        "# Random 3x3 matrix (already done before)\n",
        "a1 = np.random.random((3, 3))\n",
        "a1 = np.round(a1 * 5, 2)   # Keep values smaller for better output\n",
        "print(\"Original a1:\\n\", a1)\n",
        "\n",
        "# Apply exponential function\n",
        "exp_result = np.exp(a1)\n",
        "print(\"\\nExponential of a1:\\n\", exp_result)\n"
      ],
      "metadata": {
        "colab": {
          "base_uri": "https://localhost:8080/"
        },
        "id": "qd7GmrgEtH6i",
        "outputId": "c7152920-0b54-4b88-a962-47824b0d59bc"
      },
      "execution_count": 107,
      "outputs": [
        {
          "output_type": "stream",
          "name": "stdout",
          "text": [
            "Original a1:\n",
            " [[1.47 3.3  0.21]\n",
            " [2.35 4.59 3.67]\n",
            " [3.87 0.98 1.36]]\n",
            "\n",
            "Exponential of a1:\n",
            " [[ 4.34923514 27.11263892  1.23367806]\n",
            " [10.48556972 98.49443016 39.25190586]\n",
            " [47.94238608  2.66445624  3.8961933 ]]\n"
          ]
        }
      ]
    },
    {
      "cell_type": "code",
      "source": [
        "import numpy as np\n",
        "\n",
        "# Generate random 2x3 array and scale it (0 to 100)\n",
        "arr = np.random.random((2, 3)) * 100\n",
        "print(\"Original Array:\\n\", arr)\n",
        "\n",
        "# Round to nearest integer\n",
        "rounded = np.round(arr)\n",
        "print(\"\\nRounded:\\n\", rounded)\n",
        "\n",
        "# Floor: round down to nearest integer\n",
        "floored = np.floor(arr)\n",
        "print(\"\\nFloored:\\n\", floored)\n",
        "\n",
        "# Ceil: round up to nearest integer\n",
        "ceiled = np.ceil(arr)\n",
        "print(\"\\nCeiled:\\n\", ceiled)\n"
      ],
      "metadata": {
        "colab": {
          "base_uri": "https://localhost:8080/"
        },
        "id": "EOXnVCZhtKk1",
        "outputId": "03a84aca-4f93-41e0-8b5f-d800865b194a"
      },
      "execution_count": 108,
      "outputs": [
        {
          "output_type": "stream",
          "name": "stdout",
          "text": [
            "Original Array:\n",
            " [[51.84032138 76.88979553 46.42833954]\n",
            " [66.11260218 77.76873567 27.60484811]]\n",
            "\n",
            "Rounded:\n",
            " [[52. 77. 46.]\n",
            " [66. 78. 28.]]\n",
            "\n",
            "Floored:\n",
            " [[51. 76. 46.]\n",
            " [66. 77. 27.]]\n",
            "\n",
            "Ceiled:\n",
            " [[52. 77. 47.]\n",
            " [67. 78. 28.]]\n"
          ]
        }
      ]
    },
    {
      "cell_type": "markdown",
      "source": [
        "### Indexing and Slicing"
      ],
      "metadata": {
        "id": "2pYZJMrAuvuv"
      }
    },
    {
      "cell_type": "code",
      "source": [
        "a1 = np.arange(10)\n",
        "a2 = np.arange(12).reshape(3,4)\n",
        "a3 = np.arange(8).reshape(2,2,2)\n",
        "\n",
        "a3"
      ],
      "metadata": {
        "colab": {
          "base_uri": "https://localhost:8080/"
        },
        "id": "v1LynzX9u2R-",
        "outputId": "8915fa26-119a-4b35-c9cd-fbf2f1c8dc22"
      },
      "execution_count": 109,
      "outputs": [
        {
          "output_type": "execute_result",
          "data": {
            "text/plain": [
              "array([[[0, 1],\n",
              "        [2, 3]],\n",
              "\n",
              "       [[4, 5],\n",
              "        [6, 7]]])"
            ]
          },
          "metadata": {},
          "execution_count": 109
        }
      ]
    },
    {
      "cell_type": "code",
      "source": [
        "a1"
      ],
      "metadata": {
        "colab": {
          "base_uri": "https://localhost:8080/"
        },
        "id": "qyFbwR9Ku2YE",
        "outputId": "1c8e874d-3d50-42d4-e3d8-35799a5fb031"
      },
      "execution_count": 110,
      "outputs": [
        {
          "output_type": "execute_result",
          "data": {
            "text/plain": [
              "array([0, 1, 2, 3, 4, 5, 6, 7, 8, 9])"
            ]
          },
          "metadata": {},
          "execution_count": 110
        }
      ]
    },
    {
      "cell_type": "code",
      "source": [
        "a2"
      ],
      "metadata": {
        "colab": {
          "base_uri": "https://localhost:8080/"
        },
        "id": "Q2IbBdEXu2a5",
        "outputId": "ae94eedd-3997-49af-a0ba-3b38b1aeb8a1"
      },
      "execution_count": 111,
      "outputs": [
        {
          "output_type": "execute_result",
          "data": {
            "text/plain": [
              "array([[ 0,  1,  2,  3],\n",
              "       [ 4,  5,  6,  7],\n",
              "       [ 8,  9, 10, 11]])"
            ]
          },
          "metadata": {},
          "execution_count": 111
        }
      ]
    },
    {
      "cell_type": "code",
      "source": [
        "a2[1,0]"
      ],
      "metadata": {
        "colab": {
          "base_uri": "https://localhost:8080/"
        },
        "id": "GIR5YhVzu2dc",
        "outputId": "bbcdabb4-5e5a-496b-9893-784bf7e312b4"
      },
      "execution_count": 112,
      "outputs": [
        {
          "output_type": "execute_result",
          "data": {
            "text/plain": [
              "np.int64(4)"
            ]
          },
          "metadata": {},
          "execution_count": 112
        }
      ]
    },
    {
      "cell_type": "code",
      "source": [
        "a3"
      ],
      "metadata": {
        "colab": {
          "base_uri": "https://localhost:8080/"
        },
        "id": "IbM-KNY3HP9-",
        "outputId": "771b5d78-726f-422b-b2ee-3bbf88fd97d2"
      },
      "execution_count": 113,
      "outputs": [
        {
          "output_type": "execute_result",
          "data": {
            "text/plain": [
              "array([[[0, 1],\n",
              "        [2, 3]],\n",
              "\n",
              "       [[4, 5],\n",
              "        [6, 7]]])"
            ]
          },
          "metadata": {},
          "execution_count": 113
        }
      ]
    },
    {
      "cell_type": "code",
      "source": [
        "a3[1,0,1]"
      ],
      "metadata": {
        "colab": {
          "base_uri": "https://localhost:8080/"
        },
        "id": "xG7HU0RgHQD-",
        "outputId": "a2b5a5ec-931a-4f73-8f20-f0a33578fa54"
      },
      "execution_count": 114,
      "outputs": [
        {
          "output_type": "execute_result",
          "data": {
            "text/plain": [
              "np.int64(5)"
            ]
          },
          "metadata": {},
          "execution_count": 114
        }
      ]
    },
    {
      "cell_type": "code",
      "source": [
        "a3[1,1,0]"
      ],
      "metadata": {
        "colab": {
          "base_uri": "https://localhost:8080/"
        },
        "id": "3EhcikSWHQKO",
        "outputId": "4085d011-b4dc-418b-b4dc-f555700b7db1"
      },
      "execution_count": 115,
      "outputs": [
        {
          "output_type": "execute_result",
          "data": {
            "text/plain": [
              "np.int64(6)"
            ]
          },
          "metadata": {},
          "execution_count": 115
        }
      ]
    },
    {
      "cell_type": "code",
      "source": [
        "a1"
      ],
      "metadata": {
        "colab": {
          "base_uri": "https://localhost:8080/"
        },
        "id": "_cgU2A52HQO0",
        "outputId": "90344d0f-14a7-43fc-8f5e-53c6cda6a7d4"
      },
      "execution_count": 116,
      "outputs": [
        {
          "output_type": "execute_result",
          "data": {
            "text/plain": [
              "array([0, 1, 2, 3, 4, 5, 6, 7, 8, 9])"
            ]
          },
          "metadata": {},
          "execution_count": 116
        }
      ]
    },
    {
      "cell_type": "code",
      "source": [
        "a1[2:5:2]"
      ],
      "metadata": {
        "colab": {
          "base_uri": "https://localhost:8080/"
        },
        "id": "HnFM0Wa5IMw2",
        "outputId": "8b0f648d-394f-4c5c-8685-1416cebe7cc5"
      },
      "execution_count": 117,
      "outputs": [
        {
          "output_type": "execute_result",
          "data": {
            "text/plain": [
              "array([2, 4])"
            ]
          },
          "metadata": {},
          "execution_count": 117
        }
      ]
    },
    {
      "cell_type": "code",
      "source": [
        "a2"
      ],
      "metadata": {
        "colab": {
          "base_uri": "https://localhost:8080/"
        },
        "id": "SDWOK56EIM3n",
        "outputId": "5df74613-a9c8-4fe2-ffbb-674ce4d895c9"
      },
      "execution_count": 118,
      "outputs": [
        {
          "output_type": "execute_result",
          "data": {
            "text/plain": [
              "array([[ 0,  1,  2,  3],\n",
              "       [ 4,  5,  6,  7],\n",
              "       [ 8,  9, 10, 11]])"
            ]
          },
          "metadata": {},
          "execution_count": 118
        }
      ]
    },
    {
      "cell_type": "code",
      "source": [
        "a2[0:2,1::2]"
      ],
      "metadata": {
        "colab": {
          "base_uri": "https://localhost:8080/"
        },
        "id": "q55x6VoiKmpX",
        "outputId": "f149b56c-f5b2-4d47-ceef-cef1b7824857"
      },
      "execution_count": 119,
      "outputs": [
        {
          "output_type": "execute_result",
          "data": {
            "text/plain": [
              "array([[1, 3],\n",
              "       [5, 7]])"
            ]
          },
          "metadata": {},
          "execution_count": 119
        }
      ]
    },
    {
      "cell_type": "code",
      "source": [
        "a2[::2,1::2]"
      ],
      "metadata": {
        "colab": {
          "base_uri": "https://localhost:8080/"
        },
        "id": "t2hA9ZJNJOBW",
        "outputId": "0056d76b-2ee1-4d44-9aaa-b6b1131199bf"
      },
      "execution_count": 120,
      "outputs": [
        {
          "output_type": "execute_result",
          "data": {
            "text/plain": [
              "array([[ 1,  3],\n",
              "       [ 9, 11]])"
            ]
          },
          "metadata": {},
          "execution_count": 120
        }
      ]
    },
    {
      "cell_type": "code",
      "source": [
        "a2[1,::3]"
      ],
      "metadata": {
        "colab": {
          "base_uri": "https://localhost:8080/"
        },
        "id": "hubSAa0eKSCt",
        "outputId": "7c6f2ecc-61de-46d7-ce1a-872464216296"
      },
      "execution_count": 121,
      "outputs": [
        {
          "output_type": "execute_result",
          "data": {
            "text/plain": [
              "array([4, 7])"
            ]
          },
          "metadata": {},
          "execution_count": 121
        }
      ]
    },
    {
      "cell_type": "code",
      "source": [
        "a2[0,:]"
      ],
      "metadata": {
        "colab": {
          "base_uri": "https://localhost:8080/"
        },
        "id": "mi2B5NN9IM-B",
        "outputId": "4d8d0b74-e202-4edd-a41e-4d78b326c070"
      },
      "execution_count": 122,
      "outputs": [
        {
          "output_type": "execute_result",
          "data": {
            "text/plain": [
              "array([0, 1, 2, 3])"
            ]
          },
          "metadata": {},
          "execution_count": 122
        }
      ]
    },
    {
      "cell_type": "code",
      "source": [
        "a2[:,2]"
      ],
      "metadata": {
        "colab": {
          "base_uri": "https://localhost:8080/"
        },
        "id": "u7dQcPKpINDS",
        "outputId": "b902f3ba-5845-44af-8af0-1a9e0d1c79c4"
      },
      "execution_count": 123,
      "outputs": [
        {
          "output_type": "execute_result",
          "data": {
            "text/plain": [
              "array([ 2,  6, 10])"
            ]
          },
          "metadata": {},
          "execution_count": 123
        }
      ]
    },
    {
      "cell_type": "code",
      "source": [
        "a2[1:,1:3]"
      ],
      "metadata": {
        "colab": {
          "base_uri": "https://localhost:8080/"
        },
        "id": "GYjyXNKnINTA",
        "outputId": "ee438254-81f0-4d44-bec2-e25a63f141d4"
      },
      "execution_count": 124,
      "outputs": [
        {
          "output_type": "execute_result",
          "data": {
            "text/plain": [
              "array([[ 5,  6],\n",
              "       [ 9, 10]])"
            ]
          },
          "metadata": {},
          "execution_count": 124
        }
      ]
    },
    {
      "cell_type": "code",
      "source": [
        "a3 = np.arange(27).reshape(3,3,3)\n",
        "a3"
      ],
      "metadata": {
        "colab": {
          "base_uri": "https://localhost:8080/"
        },
        "id": "Z-24y62tK7KO",
        "outputId": "e38be421-7f53-4dae-dca5-3ef45abee0b4"
      },
      "execution_count": 125,
      "outputs": [
        {
          "output_type": "execute_result",
          "data": {
            "text/plain": [
              "array([[[ 0,  1,  2],\n",
              "        [ 3,  4,  5],\n",
              "        [ 6,  7,  8]],\n",
              "\n",
              "       [[ 9, 10, 11],\n",
              "        [12, 13, 14],\n",
              "        [15, 16, 17]],\n",
              "\n",
              "       [[18, 19, 20],\n",
              "        [21, 22, 23],\n",
              "        [24, 25, 26]]])"
            ]
          },
          "metadata": {},
          "execution_count": 125
        }
      ]
    },
    {
      "cell_type": "code",
      "source": [
        "a3[::2,0,::2]"
      ],
      "metadata": {
        "colab": {
          "base_uri": "https://localhost:8080/"
        },
        "id": "DB1bM8NCMTub",
        "outputId": "f490862b-450d-45bc-f585-c38ecb0f9380"
      },
      "execution_count": 126,
      "outputs": [
        {
          "output_type": "execute_result",
          "data": {
            "text/plain": [
              "array([[ 0,  2],\n",
              "       [18, 20]])"
            ]
          },
          "metadata": {},
          "execution_count": 126
        }
      ]
    },
    {
      "cell_type": "code",
      "source": [
        "a3[2,1:,1:]"
      ],
      "metadata": {
        "colab": {
          "base_uri": "https://localhost:8080/"
        },
        "id": "gPOgRWfNLxPF",
        "outputId": "62282b43-7659-4cae-bb15-7ea9fcbaa88e"
      },
      "execution_count": 127,
      "outputs": [
        {
          "output_type": "execute_result",
          "data": {
            "text/plain": [
              "array([[22, 23],\n",
              "       [25, 26]])"
            ]
          },
          "metadata": {},
          "execution_count": 127
        }
      ]
    },
    {
      "cell_type": "code",
      "source": [
        "a3[0,1,:]"
      ],
      "metadata": {
        "colab": {
          "base_uri": "https://localhost:8080/"
        },
        "id": "S3OJJAMXK7RV",
        "outputId": "db827f01-040f-4416-a5e7-2e2807fb5756"
      },
      "execution_count": 128,
      "outputs": [
        {
          "output_type": "execute_result",
          "data": {
            "text/plain": [
              "array([3, 4, 5])"
            ]
          },
          "metadata": {},
          "execution_count": 128
        }
      ]
    },
    {
      "cell_type": "code",
      "source": [],
      "metadata": {
        "id": "av7DbeP5K7Xf"
      },
      "execution_count": 128,
      "outputs": []
    },
    {
      "cell_type": "code",
      "source": [],
      "metadata": {
        "id": "MTLPaOobK7dc"
      },
      "execution_count": 128,
      "outputs": []
    },
    {
      "cell_type": "code",
      "source": [],
      "metadata": {
        "id": "0StTG7ycK7kQ"
      },
      "execution_count": 128,
      "outputs": []
    },
    {
      "cell_type": "code",
      "source": [],
      "metadata": {
        "id": "mkUuhK9UK7pA"
      },
      "execution_count": 128,
      "outputs": []
    },
    {
      "cell_type": "code",
      "source": [],
      "metadata": {
        "id": "JyonJsQVK7tm"
      },
      "execution_count": 128,
      "outputs": []
    },
    {
      "cell_type": "markdown",
      "source": [
        "### Iterating"
      ],
      "metadata": {
        "id": "dUv9qM1yuIKJ"
      }
    },
    {
      "cell_type": "code",
      "source": [
        "a1\n",
        "\n",
        "for i in a1:\n",
        "  print(i)"
      ],
      "metadata": {
        "colab": {
          "base_uri": "https://localhost:8080/"
        },
        "id": "lNgaCad6uKhm",
        "outputId": "bfa803b7-0eb3-4c78-abe1-75695a60ab1b"
      },
      "execution_count": 129,
      "outputs": [
        {
          "output_type": "stream",
          "name": "stdout",
          "text": [
            "0\n",
            "1\n",
            "2\n",
            "3\n",
            "4\n",
            "5\n",
            "6\n",
            "7\n",
            "8\n",
            "9\n"
          ]
        }
      ]
    },
    {
      "cell_type": "code",
      "source": [
        "a2"
      ],
      "metadata": {
        "colab": {
          "base_uri": "https://localhost:8080/"
        },
        "id": "jNIsE0YFM6ZN",
        "outputId": "0e0bf2ec-668c-4f8c-ef47-eeaf3cf83691"
      },
      "execution_count": 130,
      "outputs": [
        {
          "output_type": "execute_result",
          "data": {
            "text/plain": [
              "array([[ 0,  1,  2,  3],\n",
              "       [ 4,  5,  6,  7],\n",
              "       [ 8,  9, 10, 11]])"
            ]
          },
          "metadata": {},
          "execution_count": 130
        }
      ]
    },
    {
      "cell_type": "code",
      "source": [
        "for i in a2:\n",
        "  print(i)"
      ],
      "metadata": {
        "colab": {
          "base_uri": "https://localhost:8080/"
        },
        "id": "B2Hk-zAONHTY",
        "outputId": "0e08e4ae-c63e-43c8-fe16-408423293eb7"
      },
      "execution_count": 131,
      "outputs": [
        {
          "output_type": "stream",
          "name": "stdout",
          "text": [
            "[0 1 2 3]\n",
            "[4 5 6 7]\n",
            "[ 8  9 10 11]\n"
          ]
        }
      ]
    },
    {
      "cell_type": "code",
      "source": [
        "a3"
      ],
      "metadata": {
        "colab": {
          "base_uri": "https://localhost:8080/"
        },
        "id": "8hfuC98qM-hC",
        "outputId": "44666f55-4061-456f-b126-00177ba13e83"
      },
      "execution_count": 132,
      "outputs": [
        {
          "output_type": "execute_result",
          "data": {
            "text/plain": [
              "array([[[ 0,  1,  2],\n",
              "        [ 3,  4,  5],\n",
              "        [ 6,  7,  8]],\n",
              "\n",
              "       [[ 9, 10, 11],\n",
              "        [12, 13, 14],\n",
              "        [15, 16, 17]],\n",
              "\n",
              "       [[18, 19, 20],\n",
              "        [21, 22, 23],\n",
              "        [24, 25, 26]]])"
            ]
          },
          "metadata": {},
          "execution_count": 132
        }
      ]
    },
    {
      "cell_type": "code",
      "source": [
        "for i in a3:\n",
        "  print(i)"
      ],
      "metadata": {
        "colab": {
          "base_uri": "https://localhost:8080/"
        },
        "id": "DsYEnw2ONOIy",
        "outputId": "f48707d3-edcf-45b4-dbcc-ddc4fd2e76a9"
      },
      "execution_count": 133,
      "outputs": [
        {
          "output_type": "stream",
          "name": "stdout",
          "text": [
            "[[0 1 2]\n",
            " [3 4 5]\n",
            " [6 7 8]]\n",
            "[[ 9 10 11]\n",
            " [12 13 14]\n",
            " [15 16 17]]\n",
            "[[18 19 20]\n",
            " [21 22 23]\n",
            " [24 25 26]]\n"
          ]
        }
      ]
    },
    {
      "cell_type": "code",
      "source": [
        "for i in np.nditer(a3):\n",
        "  print(i)"
      ],
      "metadata": {
        "colab": {
          "base_uri": "https://localhost:8080/"
        },
        "id": "IuRJ1QiRNZRM",
        "outputId": "65264f32-1c83-44ec-a328-fe5a88bf47fd"
      },
      "execution_count": 134,
      "outputs": [
        {
          "output_type": "stream",
          "name": "stdout",
          "text": [
            "0\n",
            "1\n",
            "2\n",
            "3\n",
            "4\n",
            "5\n",
            "6\n",
            "7\n",
            "8\n",
            "9\n",
            "10\n",
            "11\n",
            "12\n",
            "13\n",
            "14\n",
            "15\n",
            "16\n",
            "17\n",
            "18\n",
            "19\n",
            "20\n",
            "21\n",
            "22\n",
            "23\n",
            "24\n",
            "25\n",
            "26\n"
          ]
        }
      ]
    },
    {
      "cell_type": "markdown",
      "source": [
        "### Reshaping"
      ],
      "metadata": {
        "id": "ZSS6AF_luNc-"
      }
    },
    {
      "cell_type": "code",
      "source": [
        "# reshape"
      ],
      "metadata": {
        "id": "NeXLsnBb9ko7"
      },
      "execution_count": 135,
      "outputs": []
    },
    {
      "cell_type": "code",
      "source": [
        "# Transpose\n",
        "np.transpose(a2)\n",
        "a2.T"
      ],
      "metadata": {
        "colab": {
          "base_uri": "https://localhost:8080/"
        },
        "id": "DBIaUE8duQDz",
        "outputId": "35388b62-7e26-48f2-8edc-3e606ca3900d"
      },
      "execution_count": 136,
      "outputs": [
        {
          "output_type": "execute_result",
          "data": {
            "text/plain": [
              "array([[ 0,  4,  8],\n",
              "       [ 1,  5,  9],\n",
              "       [ 2,  6, 10],\n",
              "       [ 3,  7, 11]])"
            ]
          },
          "metadata": {},
          "execution_count": 136
        }
      ]
    },
    {
      "cell_type": "code",
      "source": [
        "# ravel\n",
        "a3.ravel()"
      ],
      "metadata": {
        "colab": {
          "base_uri": "https://localhost:8080/"
        },
        "id": "IULUNn5OuQMT",
        "outputId": "54f5c3d5-0ad4-408e-b99a-1e6abf407b2a"
      },
      "execution_count": 137,
      "outputs": [
        {
          "output_type": "execute_result",
          "data": {
            "text/plain": [
              "array([ 0,  1,  2,  3,  4,  5,  6,  7,  8,  9, 10, 11, 12, 13, 14, 15, 16,\n",
              "       17, 18, 19, 20, 21, 22, 23, 24, 25, 26])"
            ]
          },
          "metadata": {},
          "execution_count": 137
        }
      ]
    },
    {
      "cell_type": "markdown",
      "source": [
        "### Stacking"
      ],
      "metadata": {
        "id": "ouKcJQ5EuUQC"
      }
    },
    {
      "cell_type": "code",
      "source": [
        "# horizontal stacking\n",
        "a4 = np.arange(12).reshape(3,4)\n",
        "a5 = np.arange(12,24).reshape(3,4)\n",
        "a5"
      ],
      "metadata": {
        "colab": {
          "base_uri": "https://localhost:8080/"
        },
        "id": "HHSY1njTuXLi",
        "outputId": "7646a261-7e19-49db-a9f2-6cc42ca4c09b"
      },
      "execution_count": 138,
      "outputs": [
        {
          "output_type": "execute_result",
          "data": {
            "text/plain": [
              "array([[12, 13, 14, 15],\n",
              "       [16, 17, 18, 19],\n",
              "       [20, 21, 22, 23]])"
            ]
          },
          "metadata": {},
          "execution_count": 138
        }
      ]
    },
    {
      "cell_type": "code",
      "source": [
        "np.hstack((a4,a5))"
      ],
      "metadata": {
        "colab": {
          "base_uri": "https://localhost:8080/"
        },
        "id": "ne9uXt3yPKez",
        "outputId": "6338c8cf-7948-4bed-aa15-d928b7233883"
      },
      "execution_count": 139,
      "outputs": [
        {
          "output_type": "execute_result",
          "data": {
            "text/plain": [
              "array([[ 0,  1,  2,  3, 12, 13, 14, 15],\n",
              "       [ 4,  5,  6,  7, 16, 17, 18, 19],\n",
              "       [ 8,  9, 10, 11, 20, 21, 22, 23]])"
            ]
          },
          "metadata": {},
          "execution_count": 139
        }
      ]
    },
    {
      "cell_type": "code",
      "source": [
        "# Vertical stacking\n",
        "np.vstack((a4,a5))"
      ],
      "metadata": {
        "colab": {
          "base_uri": "https://localhost:8080/"
        },
        "id": "F6bFFNKuuZW5",
        "outputId": "339270a0-8c65-4adf-d54d-3e7803be1e85"
      },
      "execution_count": 140,
      "outputs": [
        {
          "output_type": "execute_result",
          "data": {
            "text/plain": [
              "array([[ 0,  1,  2,  3],\n",
              "       [ 4,  5,  6,  7],\n",
              "       [ 8,  9, 10, 11],\n",
              "       [12, 13, 14, 15],\n",
              "       [16, 17, 18, 19],\n",
              "       [20, 21, 22, 23]])"
            ]
          },
          "metadata": {},
          "execution_count": 140
        }
      ]
    },
    {
      "cell_type": "markdown",
      "source": [
        "### Splitting"
      ],
      "metadata": {
        "id": "kaY006uXucF5"
      }
    },
    {
      "cell_type": "code",
      "source": [
        "# horizontal splitting\n",
        "a4"
      ],
      "metadata": {
        "colab": {
          "base_uri": "https://localhost:8080/"
        },
        "id": "kgbl6wkD9ll6",
        "outputId": "3b2e0c9e-ec93-4da6-d9bd-168c99ca4181"
      },
      "execution_count": 141,
      "outputs": [
        {
          "output_type": "execute_result",
          "data": {
            "text/plain": [
              "array([[ 0,  1,  2,  3],\n",
              "       [ 4,  5,  6,  7],\n",
              "       [ 8,  9, 10, 11]])"
            ]
          },
          "metadata": {},
          "execution_count": 141
        }
      ]
    },
    {
      "cell_type": "code",
      "source": [
        "np.hsplit(a4,5)"
      ],
      "metadata": {
        "colab": {
          "base_uri": "https://localhost:8080/",
          "height": 287
        },
        "id": "FIfZM5BsQE5l",
        "outputId": "b4514396-869c-41e6-fa0a-a2859fadc772"
      },
      "execution_count": 142,
      "outputs": [
        {
          "output_type": "error",
          "ename": "ValueError",
          "evalue": "array split does not result in an equal division",
          "traceback": [
            "\u001b[0;31m---------------------------------------------------------------------------\u001b[0m",
            "\u001b[0;31mValueError\u001b[0m                                Traceback (most recent call last)",
            "\u001b[0;32m/tmp/ipython-input-142-4139407835.py\u001b[0m in \u001b[0;36m<cell line: 0>\u001b[0;34m()\u001b[0m\n\u001b[0;32m----> 1\u001b[0;31m \u001b[0mnp\u001b[0m\u001b[0;34m.\u001b[0m\u001b[0mhsplit\u001b[0m\u001b[0;34m(\u001b[0m\u001b[0ma4\u001b[0m\u001b[0;34m,\u001b[0m\u001b[0;36m5\u001b[0m\u001b[0;34m)\u001b[0m\u001b[0;34m\u001b[0m\u001b[0;34m\u001b[0m\u001b[0m\n\u001b[0m",
            "\u001b[0;32m/usr/local/lib/python3.11/dist-packages/numpy/lib/_shape_base_impl.py\u001b[0m in \u001b[0;36mhsplit\u001b[0;34m(ary, indices_or_sections)\u001b[0m\n\u001b[1;32m    946\u001b[0m         \u001b[0;32mraise\u001b[0m \u001b[0mValueError\u001b[0m\u001b[0;34m(\u001b[0m\u001b[0;34m'hsplit only works on arrays of 1 or more dimensions'\u001b[0m\u001b[0;34m)\u001b[0m\u001b[0;34m\u001b[0m\u001b[0;34m\u001b[0m\u001b[0m\n\u001b[1;32m    947\u001b[0m     \u001b[0;32mif\u001b[0m \u001b[0mary\u001b[0m\u001b[0;34m.\u001b[0m\u001b[0mndim\u001b[0m \u001b[0;34m>\u001b[0m \u001b[0;36m1\u001b[0m\u001b[0;34m:\u001b[0m\u001b[0;34m\u001b[0m\u001b[0;34m\u001b[0m\u001b[0m\n\u001b[0;32m--> 948\u001b[0;31m         \u001b[0;32mreturn\u001b[0m \u001b[0msplit\u001b[0m\u001b[0;34m(\u001b[0m\u001b[0mary\u001b[0m\u001b[0;34m,\u001b[0m \u001b[0mindices_or_sections\u001b[0m\u001b[0;34m,\u001b[0m \u001b[0;36m1\u001b[0m\u001b[0;34m)\u001b[0m\u001b[0;34m\u001b[0m\u001b[0;34m\u001b[0m\u001b[0m\n\u001b[0m\u001b[1;32m    949\u001b[0m     \u001b[0;32melse\u001b[0m\u001b[0;34m:\u001b[0m\u001b[0;34m\u001b[0m\u001b[0;34m\u001b[0m\u001b[0m\n\u001b[1;32m    950\u001b[0m         \u001b[0;32mreturn\u001b[0m \u001b[0msplit\u001b[0m\u001b[0;34m(\u001b[0m\u001b[0mary\u001b[0m\u001b[0;34m,\u001b[0m \u001b[0mindices_or_sections\u001b[0m\u001b[0;34m,\u001b[0m \u001b[0;36m0\u001b[0m\u001b[0;34m)\u001b[0m\u001b[0;34m\u001b[0m\u001b[0;34m\u001b[0m\u001b[0m\n",
            "\u001b[0;32m/usr/local/lib/python3.11/dist-packages/numpy/lib/_shape_base_impl.py\u001b[0m in \u001b[0;36msplit\u001b[0;34m(ary, indices_or_sections, axis)\u001b[0m\n\u001b[1;32m    872\u001b[0m         \u001b[0mN\u001b[0m \u001b[0;34m=\u001b[0m \u001b[0mary\u001b[0m\u001b[0;34m.\u001b[0m\u001b[0mshape\u001b[0m\u001b[0;34m[\u001b[0m\u001b[0maxis\u001b[0m\u001b[0;34m]\u001b[0m\u001b[0;34m\u001b[0m\u001b[0;34m\u001b[0m\u001b[0m\n\u001b[1;32m    873\u001b[0m         \u001b[0;32mif\u001b[0m \u001b[0mN\u001b[0m \u001b[0;34m%\u001b[0m \u001b[0msections\u001b[0m\u001b[0;34m:\u001b[0m\u001b[0;34m\u001b[0m\u001b[0;34m\u001b[0m\u001b[0m\n\u001b[0;32m--> 874\u001b[0;31m             raise ValueError(\n\u001b[0m\u001b[1;32m    875\u001b[0m                 'array split does not result in an equal division') from None\n\u001b[1;32m    876\u001b[0m     \u001b[0;32mreturn\u001b[0m \u001b[0marray_split\u001b[0m\u001b[0;34m(\u001b[0m\u001b[0mary\u001b[0m\u001b[0;34m,\u001b[0m \u001b[0mindices_or_sections\u001b[0m\u001b[0;34m,\u001b[0m \u001b[0maxis\u001b[0m\u001b[0;34m)\u001b[0m\u001b[0;34m\u001b[0m\u001b[0;34m\u001b[0m\u001b[0m\n",
            "\u001b[0;31mValueError\u001b[0m: array split does not result in an equal division"
          ]
        }
      ]
    },
    {
      "cell_type": "code",
      "source": [
        "# vertical splitting"
      ],
      "metadata": {
        "id": "nfhKoruOuhK-"
      },
      "execution_count": null,
      "outputs": []
    },
    {
      "cell_type": "code",
      "source": [
        "a5"
      ],
      "metadata": {
        "id": "qJ2xEBFUuieB"
      },
      "execution_count": null,
      "outputs": []
    },
    {
      "cell_type": "code",
      "source": [
        "np.vsplit(a5,2)"
      ],
      "metadata": {
        "id": "1wxcLLR_QWVu"
      },
      "execution_count": null,
      "outputs": []
    },
    {
      "cell_type": "code",
      "source": [],
      "metadata": {
        "id": "E_EVrYA7QadG"
      },
      "execution_count": null,
      "outputs": []
    }
  ]
}