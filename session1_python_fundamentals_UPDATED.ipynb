{
 "cells": [
  {
   "cell_type": "markdown",
   "id": "7048c597",
   "metadata": {},
   "source": [
    "# 1. Python Output\n",
    "\n",
    "### Concepts Covered:\n",
    "- Python is case-sensitive.\n",
    "- `print()` is used to display output.\n",
    "- You can print strings, numbers, booleans, etc.\n",
    "- Use `sep` to define a separator, and `end` to change line breaks.\n"
   ]
  },
  {
   "cell_type": "code",
   "execution_count": 28,
   "id": "3cee57b7",
   "metadata": {
    "colab": {
     "base_uri": "https://localhost:8080/"
    },
    "id": "5l246_zLHIEV",
    "outputId": "0db6b10e-d5ee-41b1-e71c-e96f1cb15221"
   },
   "outputs": [
    {
     "name": "stdout",
     "output_type": "stream",
     "text": [
      "Hello World\n"
     ]
    }
   ],
   "source": [
    "# Python is a case-sensitive language.\n",
    "# Always use lowercase 'print' and proper syntax.\n",
    "print('Hello World')  # Output: Hello World"
   ]
  },
  {
   "cell_type": "code",
   "execution_count": 29,
   "id": "bfec022b",
   "metadata": {
    "colab": {
     "base_uri": "https://localhost:8080/"
    },
    "id": "OErEI7l8mCiC",
    "outputId": "8364f484-f3a8-4888-a28d-c877d8428329"
   },
   "outputs": [
    {
     "name": "stdout",
     "output_type": "stream",
     "text": [
      "salman khan\n"
     ]
    }
   ],
   "source": [
    "# Printing a simple string using print function\n",
    "print('salman khan')  # Output: salman khan"
   ]
  },
  {
   "cell_type": "code",
   "execution_count": 30,
   "id": "03500abf",
   "metadata": {
    "colab": {
     "base_uri": "https://localhost:8080/",
     "height": 133
    },
    "id": "bGdSXNW0mHci",
    "outputId": "16a1a5c9-9dd6-4902-f0bc-61e141188397"
   },
   "outputs": [
    {
     "name": "stdout",
     "output_type": "stream",
     "text": [
      "salman khan\n"
     ]
    }
   ],
   "source": [
    "# Printing a simple string using print function\n",
    "print('salman khan')  # Output: salman khan"
   ]
  },
  {
   "cell_type": "code",
   "execution_count": 31,
   "id": "8267aee7",
   "metadata": {
    "colab": {
     "base_uri": "https://localhost:8080/"
    },
    "id": "aFr6XX8bmTRe",
    "outputId": "ab2ce95a-a159-43a8-b81b-2742bcf329e0"
   },
   "outputs": [
    {
     "name": "stdout",
     "output_type": "stream",
     "text": [
      "7\n"
     ]
    }
   ],
   "source": [
    "# Printing an integer\n",
    "print(7)  # Output: 7"
   ]
  },
  {
   "cell_type": "code",
   "execution_count": 32,
   "id": "a39f2b83",
   "metadata": {
    "colab": {
     "base_uri": "https://localhost:8080/"
    },
    "id": "fqM5TR1kmW9y",
    "outputId": "170586bf-fec1-4a37-cc12-6c46f8a3e79b"
   },
   "outputs": [
    {
     "name": "stdout",
     "output_type": "stream",
     "text": [
      "7.7\n"
     ]
    }
   ],
   "source": [
    "# Printing a float (decimal number)\n",
    "print(7.7)  # Output: 7.7"
   ]
  },
  {
   "cell_type": "code",
   "execution_count": 33,
   "id": "3fd5725f",
   "metadata": {
    "colab": {
     "base_uri": "https://localhost:8080/"
    },
    "id": "w6S9LAPnmZLN",
    "outputId": "2803b89e-a74e-483a-98e9-a09037d3957d"
   },
   "outputs": [
    {
     "name": "stdout",
     "output_type": "stream",
     "text": [
      "True\n"
     ]
    }
   ],
   "source": [
    "# Printing a boolean value\n",
    "print(True)  # Output: True"
   ]
  },
  {
   "cell_type": "code",
   "execution_count": 34,
   "id": "74ce5ad7",
   "metadata": {
    "colab": {
     "base_uri": "https://localhost:8080/"
    },
    "id": "y-NL43EFmi-n",
    "outputId": "f7224a28-5110-4ff8-9922-cb2d4880b4a6"
   },
   "outputs": [
    {
     "name": "stdout",
     "output_type": "stream",
     "text": [
      "Hello 1 4.5 True\n"
     ]
    }
   ],
   "source": [
    "# Printing multiple values of different types in one line\n",
    "print('Hello', 1, 4.5, True)  # Output: Hello 1 4.5 True\n"
   ]
  },
  {
   "cell_type": "code",
   "execution_count": 35,
   "id": "368881f0",
   "metadata": {
    "colab": {
     "base_uri": "https://localhost:8080/"
    },
    "id": "APl7m_hom225",
    "outputId": "1586b432-c584-46d0-9a17-0e708f6e008c"
   },
   "outputs": [
    {
     "name": "stdout",
     "output_type": "stream",
     "text": [
      "Hello/1/4.5/True\n"
     ]
    }
   ],
   "source": [
    "# Using a custom separator with 'sep' argument in print()\n",
    "print('Hello', 1, 4.5, True, sep='/')  # Output: Hello/1/4.5/True"
   ]
  },
  {
   "cell_type": "code",
   "execution_count": 36,
   "id": "624e4c3a",
   "metadata": {
    "colab": {
     "base_uri": "https://localhost:8080/"
    },
    "id": "7mGPkXASnXxx",
    "outputId": "95fe8b81-be2d-4d49-a64c-fb9758b45972"
   },
   "outputs": [
    {
     "name": "stdout",
     "output_type": "stream",
     "text": [
      "hello\n",
      "world\n"
     ]
    }
   ],
   "source": [
    "# By default, print() adds a newline after each call\n",
    "print('hello')\n",
    "print('world')  # Output:\n",
    "# hello\n",
    "# world"
   ]
  },
  {
   "cell_type": "code",
   "execution_count": 37,
   "id": "163c0fcb",
   "metadata": {
    "colab": {
     "base_uri": "https://localhost:8080/"
    },
    "id": "0m4dTp6gngVj",
    "outputId": "f89346b9-b976-4f2a-a32f-ffe0fc206677"
   },
   "outputs": [
    {
     "name": "stdout",
     "output_type": "stream",
     "text": [
      "hello world\n"
     ]
    }
   ],
   "source": [
    "print('hello', end=' ')\n",
    "print('world')  # Output: hello world\n"
   ]
  },
  {
   "cell_type": "markdown",
   "id": "5daa43e8",
   "metadata": {},
   "source": [
    "# 2. Data Types"
   ]
  },
  {
   "cell_type": "code",
   "execution_count": 38,
   "id": "e0c2ff02",
   "metadata": {
    "colab": {
     "base_uri": "https://localhost:8080/"
    },
    "id": "0AD2yELLHOD5",
    "outputId": "2665257f-1f5c-449c-e8fc-0dc3f5b2905c"
   },
   "outputs": [
    {
     "name": "stdout",
     "output_type": "stream",
     "text": [
      "8\n",
      "inf\n"
     ]
    }
   ],
   "source": [
    "# Integer Example\n",
    "print(8)  # Output: 8 (this is a standard integer)\n",
    "\n",
    "# Very large number using scientific notation\n",
    "print(1e309)  # Output: inf (infinity)\n"
   ]
  },
  {
   "cell_type": "code",
   "execution_count": 39,
   "id": "029bc399",
   "metadata": {
    "colab": {
     "base_uri": "https://localhost:8080/"
    },
    "id": "6zf6tCPNoZqc",
    "outputId": "c358cb7b-c447-4f56-9eae-149c52d88a70"
   },
   "outputs": [
    {
     "name": "stdout",
     "output_type": "stream",
     "text": [
      "8.55\n",
      "inf\n"
     ]
    }
   ],
   "source": [
    "# Float / Decimal Example\n",
    "print(8.55)      # Output: 8.55\n",
    "\n",
    "# Very large float using scientific notation\n",
    "print(1.7e309)   # Output: inf (infinity)\n"
   ]
  },
  {
   "cell_type": "code",
   "execution_count": 40,
   "id": "9fc3725f",
   "metadata": {
    "colab": {
     "base_uri": "https://localhost:8080/"
    },
    "id": "VN8v8HEQoZ3X",
    "outputId": "cec48661-7877-4bda-d53c-db172af05046"
   },
   "outputs": [
    {
     "name": "stdout",
     "output_type": "stream",
     "text": [
      "True\n",
      "False\n"
     ]
    }
   ],
   "source": [
    "# Printing a boolean value\n",
    "print(True)   # Output: True\n",
    "print(False)  # Output: False\n"
   ]
  },
  {
   "cell_type": "code",
   "execution_count": 41,
   "id": "9b5a995a",
   "metadata": {
    "colab": {
     "base_uri": "https://localhost:8080/"
    },
    "id": "NEwaubEvpJen",
    "outputId": "4a350868-2948-400c-aeb5-5b3dc6929f86"
   },
   "outputs": [
    {
     "name": "stdout",
     "output_type": "stream",
     "text": [
      "Hello World\n"
     ]
    }
   ],
   "source": [
    "# Python is a case-sensitive language.\n",
    "# Always use lowercase 'print' and proper syntax.\n",
    "print('Hello World')  # Output: Hello World"
   ]
  },
  {
   "cell_type": "code",
   "execution_count": 42,
   "id": "fb9105d0",
   "metadata": {
    "colab": {
     "base_uri": "https://localhost:8080/"
    },
    "id": "L60DWHUVpQzj",
    "outputId": "3e19c8fc-a950-4b86-ee30-ae442cb783f0"
   },
   "outputs": [
    {
     "name": "stdout",
     "output_type": "stream",
     "text": [
      "(5+6j)\n"
     ]
    }
   ],
   "source": [
    "# Complex Number Example\n",
    "print(5 + 6j)  # Output: (5+6j)\n"
   ]
  },
  {
   "cell_type": "code",
   "execution_count": 43,
   "id": "14689034",
   "metadata": {
    "colab": {
     "base_uri": "https://localhost:8080/"
    },
    "id": "u0qI-mUZpWRh",
    "outputId": "18739a04-bc7e-4ea2-f6f8-8f240013ffd6"
   },
   "outputs": [
    {
     "name": "stdout",
     "output_type": "stream",
     "text": [
      "[1, 2, 3, 4, 5]\n"
     ]
    }
   ],
   "source": [
    "# List in Python (similar to Array in C/C++)\n",
    "print([1, 2, 3, 4, 5])  # Output: [1, 2, 3, 4, 5]\n"
   ]
  },
  {
   "cell_type": "code",
   "execution_count": 44,
   "id": "804c9ddd",
   "metadata": {
    "colab": {
     "base_uri": "https://localhost:8080/"
    },
    "id": "Futbt8RJpefw",
    "outputId": "17b6d674-d6b7-4f20-93a5-065764833d0d"
   },
   "outputs": [
    {
     "name": "stdout",
     "output_type": "stream",
     "text": [
      "(1, 2, 3, 4, 5)\n"
     ]
    }
   ],
   "source": [
    "# Tuple Example\n",
    "print((1, 2, 3, 4, 5))  # Output: (1, 2, 3, 4, 5)\n"
   ]
  },
  {
   "cell_type": "code",
   "execution_count": 45,
   "id": "4ca2b439",
   "metadata": {
    "colab": {
     "base_uri": "https://localhost:8080/"
    },
    "id": "WW-etE4BplMR",
    "outputId": "fd796fce-76a2-4d0e-c611-5592277f657a"
   },
   "outputs": [
    {
     "name": "stdout",
     "output_type": "stream",
     "text": [
      "{1, 2, 3, 4, 5}\n"
     ]
    }
   ],
   "source": [
    "# Set Example\n",
    "print({1, 2, 3, 4, 5})  # Output: {1, 2, 3, 4, 5}\n"
   ]
  },
  {
   "cell_type": "code",
   "execution_count": 46,
   "id": "7a1ba9fe",
   "metadata": {
    "colab": {
     "base_uri": "https://localhost:8080/"
    },
    "id": "ssWbznaaprT6",
    "outputId": "f441104a-be19-44e6-df20-02e65b61ad4e"
   },
   "outputs": [
    {
     "name": "stdout",
     "output_type": "stream",
     "text": [
      "{'name': 'Nitish', 'gender': 'Male', 'weight': 70}\n"
     ]
    }
   ],
   "source": [
    "# Dictionary Example\n",
    "print({'name': 'Nitish', 'gender': 'Male', 'weight': 70})\n",
    "# Output: {'name': 'Nitish', 'gender': 'Male', 'weight': 70}\n"
   ]
  },
  {
   "cell_type": "code",
   "execution_count": 47,
   "id": "aca970aa",
   "metadata": {
    "colab": {
     "base_uri": "https://localhost:8080/"
    },
    "id": "NAJzbOAsq3bG",
    "outputId": "c6dafb00-02e4-46db-fdae-41f567d420bc"
   },
   "outputs": [
    {
     "data": {
      "text/plain": [
       "list"
      ]
     },
     "execution_count": 47,
     "metadata": {},
     "output_type": "execute_result"
    }
   ],
   "source": [
    "# type\n",
    "type([1,2,3])"
   ]
  },
  {
   "cell_type": "markdown",
   "id": "49abc0d5",
   "metadata": {},
   "source": [
    "# 3. Variables"
   ]
  },
  {
   "cell_type": "code",
   "execution_count": 48,
   "id": "7d829d39",
   "metadata": {
    "id": "op579nCUHQ24"
   },
   "outputs": [
    {
     "name": "stdout",
     "output_type": "stream",
     "text": [
      "Hello\n"
     ]
    }
   ],
   "source": [
    "# Q.1. Static Vs Dynamic Typing\n",
    "\n",
    "# Python is Dynamic typing\n",
    "# No need to declare data types\n",
    "a = 10         # int\n",
    "a = \"Hello\"    # now a becomes str\n",
    "print(a)       # Output: Hello\n",
    "\n",
    "\n",
    "# // Must declare type during variable definition\n",
    "# int a = 10;\n",
    "# a = \"Hello\";  // ❌ Error: cannot assign string to int\n",
    "\n",
    "\n",
    "\n",
    "\n"
   ]
  },
  {
   "cell_type": "code",
   "execution_count": 49,
   "id": "f9aef9be",
   "metadata": {},
   "outputs": [
    {
     "ename": "SyntaxError",
     "evalue": "invalid syntax (993239817.py, line 12)",
     "output_type": "error",
     "traceback": [
      "\u001b[0;36m  Cell \u001b[0;32mIn[49], line 12\u001b[0;36m\u001b[0m\n\u001b[0;31m    int a = 10;\u001b[0m\n\u001b[0m        ^\u001b[0m\n\u001b[0;31mSyntaxError\u001b[0m\u001b[0;31m:\u001b[0m invalid syntax\n"
     ]
    }
   ],
   "source": [
    "\n",
    "# Q2.\n",
    "# Static Vs Dynamic Binding\n",
    "# Dynamic Binding\n",
    "a = 10\n",
    "print(a)\n",
    "\n",
    "a = \"Nitish\"\n",
    "print(a)\n",
    "\n",
    "\n",
    "# Static Binding\n",
    "int a = 10;\n",
    "a = \"Nitish\"; # // ❌ Error: incompatible type assignment\n",
    "\n"
   ]
  },
  {
   "cell_type": "code",
   "execution_count": null,
   "id": "24b603a1",
   "metadata": {},
   "outputs": [],
   "source": [
    "# Q3.\n",
    "# stylish declaration techniques\n",
    "\n",
    "# 🔹 Multiple assignments in one line\n",
    "a, b, c = 1, 2, 3\n",
    "print(a, b, c)  # Output: 1 2 3\n",
    "\n",
    "# 🔹 Same value to multiple variables\n",
    "x = y = z = 100\n",
    "print(x, y, z)  # Output: 100 100 100\n",
    "\n",
    "# 🔹 Swapping variables without temp\n",
    "a, b = b, a"
   ]
  },
  {
   "cell_type": "code",
   "execution_count": null,
   "id": "2c2a2ef0",
   "metadata": {
    "colab": {
     "base_uri": "https://localhost:8080/"
    },
    "id": "CGybFhzvrjB6",
    "outputId": "bcabc2e5-64e6-4b38-e0d2-b747f5a6bb21"
   },
   "outputs": [],
   "source": [
    "# Python Example (not C/C++)\n",
    "# This code shows variable assignment and printing output\n",
    "\n",
    "# Assigning a string to a variable\n",
    "name = 'nitish'\n",
    "print(name)  # Output: nitish\n",
    "\n",
    "# Assigning integers to variables\n",
    "a = 5\n",
    "b = 6\n",
    "\n",
    "# Performing addition and printing result\n",
    "print(a + b)  # Output: 11\n"
   ]
  },
  {
   "cell_type": "code",
   "execution_count": null,
   "id": "7b5370c4",
   "metadata": {
    "id": "K6LN3JhfsKIp"
   },
   "outputs": [],
   "source": [
    "# Dynamic Typing in Python\n",
    "a = 5  # Python automatically understands that 'a' is an integer\n",
    "\n",
    "# You can reassign 'a' to a different data type later\n",
    "a = \"hello\"  # Now 'a' is a string — no error!\n"
   ]
  },
  {
   "cell_type": "code",
   "execution_count": null,
   "id": "788d00bb",
   "metadata": {},
   "outputs": [],
   "source": [
    "# // Static Typing in C/C++\n",
    "# int a = 5;  // You must declare the type explicitly\n",
    "# // a = \"hello\";  // ❌ Error: can't assign string to an int variable\n"
   ]
  },
  {
   "cell_type": "code",
   "execution_count": null,
   "id": "8e8d145f",
   "metadata": {
    "colab": {
     "base_uri": "https://localhost:8080/"
    },
    "id": "5UpzC2tlskka",
    "outputId": "6856e01c-23f7-4329-ba43-356935e2b75b"
   },
   "outputs": [],
   "source": [
    "# Dynamic Binding in Python\n",
    "a = 5\n",
    "print(a)      # Output: 5\n",
    "\n",
    "a = 'nitish'\n",
    "print(a)      # Output: nitish\n",
    "\n",
    "# No error! Python rebinds 'a' from int to str\n"
   ]
  },
  {
   "cell_type": "code",
   "execution_count": null,
   "id": "9dae9110",
   "metadata": {},
   "outputs": [],
   "source": [
    "# // Static Binding in C/C++\n",
    "# int a = 5;\n",
    "# // a = \"nitish\";  // ❌ Error: can't rebind 'a' to a string in statically typed languages\n"
   ]
  },
  {
   "cell_type": "code",
   "execution_count": null,
   "id": "849bfd7b",
   "metadata": {
    "colab": {
     "base_uri": "https://localhost:8080/"
    },
    "id": "-PObryFetHAE",
    "outputId": "54bf13ae-7aa6-4f26-91e4-bc37e1d6cd69"
   },
   "outputs": [],
   "source": [
    "# Assigning multiple variables\n",
    "a = 1\n",
    "b = 2\n",
    "c = 3\n",
    "\n",
    "# Printing multiple values in one line\n",
    "print(a, b, c)  # Output: 1 2 3\n"
   ]
  },
  {
   "cell_type": "code",
   "execution_count": null,
   "id": "9ce4673a",
   "metadata": {
    "colab": {
     "base_uri": "https://localhost:8080/"
    },
    "id": "AYkxWEMItN9K",
    "outputId": "3bd1b96d-9c44-40c5-81c1-cf34acff3b87"
   },
   "outputs": [],
   "source": [
    "a,b,c = 1,2,3\n",
    "print(a,b,c)"
   ]
  },
  {
   "cell_type": "code",
   "execution_count": null,
   "id": "7bfa9341",
   "metadata": {
    "colab": {
     "base_uri": "https://localhost:8080/"
    },
    "id": "gcaARQh6tUtP",
    "outputId": "62f43b5b-aff2-4313-cb2c-c6285493b712"
   },
   "outputs": [],
   "source": [
    "a=b=c= 5\n",
    "print(a,b,c)"
   ]
  },
  {
   "cell_type": "markdown",
   "id": "0c764edc",
   "metadata": {},
   "source": [
    "# Comments"
   ]
  },
  {
   "cell_type": "code",
   "execution_count": null,
   "id": "aa6e21cf",
   "metadata": {
    "colab": {
     "base_uri": "https://localhost:8080/"
    },
    "id": "4FJF20FiudCO",
    "outputId": "9b618c48-8ff7-4a89-9eb6-27a1fda91ee7"
   },
   "outputs": [],
   "source": [
    "# this is a comment\n",
    "# second line\n",
    "a = 4\n",
    "b = 6 # like this\n",
    "# second comment\n",
    "print(a+b)"
   ]
  },
  {
   "cell_type": "markdown",
   "id": "3a4fb515",
   "metadata": {},
   "source": [
    "# 4. Keywords & Identifiers"
   ]
  },
  {
   "cell_type": "code",
   "execution_count": null,
   "id": "51e8c115",
   "metadata": {
    "id": "frABVH7pHXF8"
   },
   "outputs": [],
   "source": [
    "# Keywords"
   ]
  },
  {
   "cell_type": "code",
   "execution_count": null,
   "id": "a6dab701",
   "metadata": {
    "colab": {
     "base_uri": "https://localhost:8080/"
    },
    "id": "5EFqNEfpwwS5",
    "outputId": "18b3f0d1-3442-4d73-8456-b60f51b43b81"
   },
   "outputs": [],
   "source": [
    "# Identifiers\n",
    "# You can't start with a digit\n",
    "name1 = 'Nitish'\n",
    "print(name1)\n",
    "# You can use special chars -> _\n",
    "_ = 'ntiish'\n",
    "print(_)\n",
    "# identiers can not be keyword"
   ]
  },
  {
   "cell_type": "markdown",
   "id": "720db596",
   "metadata": {},
   "source": [
    "# Temp Heading"
   ]
  },
  {
   "cell_type": "markdown",
   "id": "d6618716",
   "metadata": {},
   "source": [
    "# 5. User Input"
   ]
  },
  {
   "cell_type": "code",
   "execution_count": null,
   "id": "52a637b7",
   "metadata": {
    "colab": {
     "base_uri": "https://localhost:8080/",
     "height": 53
    },
    "id": "seRvw18RHhIo",
    "outputId": "1ccae179-67aa-40a0-8242-90d9d8772be8"
   },
   "outputs": [],
   "source": [
    "# Static Vs Dynamic\n",
    "input('Enter Email')"
   ]
  },
  {
   "cell_type": "code",
   "execution_count": null,
   "id": "2c5e591c",
   "metadata": {
    "colab": {
     "base_uri": "https://localhost:8080/"
    },
    "id": "HDIZMv91zbXY",
    "outputId": "1be9a559-7407-4eb2-b45f-dd2360d113d2"
   },
   "outputs": [],
   "source": [
    "# take input from users and store them in a variable\n",
    "fnum = int(input('enter first number'))\n",
    "snum = int(input('enter second number'))\n",
    "#print(type(fnum),type(snum))\n",
    "# add the 2 variables\n",
    "result = fnum + snum\n",
    "# print the result\n",
    "print(result)\n",
    "print(type(fnum))"
   ]
  },
  {
   "cell_type": "markdown",
   "id": "0c712c5e",
   "metadata": {},
   "source": [
    "# 6. Type Conversion"
   ]
  },
  {
   "cell_type": "code",
   "execution_count": null,
   "id": "19591bd7",
   "metadata": {
    "colab": {
     "base_uri": "https://localhost:8080/",
     "height": 240
    },
    "id": "BEuLxINMHnzk",
    "outputId": "9d599247-28de-4511-f3ff-c45aecbec048"
   },
   "outputs": [],
   "source": [
    "# 📌 Implicit Type Conversion (Automatic)\n",
    "\n",
    "print(5 + 5.6)  # Output: 10.6\n",
    "# Explanation: int (5) is automatically converted to float (5.0) → 5.0 + 5.6 = 10.6\n",
    "\n",
    "print(type(5), type(5.6))  # Output: <class 'int'> <class 'float'>\n",
    "\n",
    "# Explicite type coversion \n",
    "print(4 + '4')  # ❌ TypeError\n",
    "# Explanation: int + str is NOT allowed implicitly\n",
    "\n"
   ]
  },
  {
   "cell_type": "code",
   "execution_count": null,
   "id": "309b88fb",
   "metadata": {},
   "outputs": [],
   "source": [
    "# Mannual Fixing \n",
    "\n",
    "# Convert int to string\n",
    "print(str(4) + '4')  # Output: 44\n",
    "\n",
    "# OR convert string to int\n",
    "print(4 + int('4'))  # Output: 8\n"
   ]
  },
  {
   "cell_type": "code",
   "execution_count": null,
   "id": "cbc728fc",
   "metadata": {
    "colab": {
     "base_uri": "https://localhost:8080/"
    },
    "id": "-dyXjVl7115d",
    "outputId": "c8b98b45-1eb4-4691-c677-2ef9643ab605"
   },
   "outputs": [],
   "source": [
    "# 📌 Explicit Type Conversion (Type Casting)\n",
    "\n",
    "# ✅ str to int (Only if the string is numeric)\n",
    "print(int(\"5\"))      # Output: 5\n",
    "\n",
    "# ❌ Complex to int (Not allowed)\n",
    "# print(int(4 + 5j))  # ❌ Error: can't convert\n"
   ]
  },
  {
   "cell_type": "markdown",
   "id": "0d0574e8",
   "metadata": {},
   "source": [
    "# 7. Literals"
   ]
  },
  {
   "cell_type": "code",
   "execution_count": 51,
   "id": "523bdb94",
   "metadata": {
    "id": "4Q6wfNw1Huao"
   },
   "outputs": [
    {
     "name": "stdout",
     "output_type": "stream",
     "text": [
      "10 100 200 300\n",
      "10.5 150.0 0.0015\n",
      "3.14j\n",
      "3.14\n",
      "0.0\n"
     ]
    }
   ],
   "source": [
    "# 📌 Integer Literals in Different Number Systems\n",
    "\n",
    "a = 0b1010     # Binary Literal (0b...) → 10 in decimal\n",
    "b = 100        # Decimal Literal (standard base 10)\n",
    "c = 0o310      # Octal Literal (0o...) → 3*64 + 1*8 + 0 = 200 in decimal\n",
    "d = 0x12c      # Hexadecimal Literal (0x...) → 1*256 + 2*16 + 12 = 300 in decimal\n",
    "\n",
    "print(a, b, c, d)  # Output: 10 100 200 300\n",
    "\n",
    "\n",
    "# 📌 Float Literals\n",
    "\n",
    "float_1 = 10.5         # Standard float\n",
    "float_2 = 1.5e2        # Scientific notation → 1.5 × 10^2 = 150.0\n",
    "float_3 = 1.5e-3       # Scientific notation → 1.5 × 10^-3 = 0.0015\n",
    "\n",
    "print(float_1, float_2, float_3)  # Output: 10.5 150.0 0.0015\n",
    "\n",
    "\n",
    "# 📌 Complex Number Literal\n",
    "\n",
    "x = 3.14j              # Complex number with only imaginary part\n",
    "print(x)               # Output: 3.14j\n",
    "print(x.imag)          # Output: 3.14 (imaginary part)\n",
    "print(x.real)          # Output: 0.0  (real part)\n"
   ]
  },
  {
   "cell_type": "code",
   "execution_count": null,
   "id": "73f0d64d",
   "metadata": {
    "colab": {
     "base_uri": "https://localhost:8080/"
    },
    "id": "8UhbuqqD4X4x",
    "outputId": "2d04193f-9a26-48d8-bc1a-58590402b3bf"
   },
   "outputs": [
    {
     "name": "stdout",
     "output_type": "stream",
     "text": [
      "3.14\n"
     ]
    }
   ],
   "source": [
    "# Complex Number\n",
    "x = 3.14j  # Only imaginary part is defined\n",
    "\n",
    "# Accessing the imaginary part using .imag\n",
    "print(x.imag)  # Output: 3.14\n"
   ]
  },
  {
   "cell_type": "code",
   "execution_count": null,
   "id": "fe70694e",
   "metadata": {
    "colab": {
     "base_uri": "https://localhost:8080/"
    },
    "id": "gPIDz0f6bwc1",
    "outputId": "a06272b3-e416-483c-fbca-4ab6c72ed19e"
   },
   "outputs": [],
   "source": [
    "# 📌 Different Types of Strings in Python\n",
    "\n",
    "# Standard string with single quotes\n",
    "string = 'This is Python'\n",
    "\n",
    "# Standard string with double quotes\n",
    "strings = \"This is Python\"\n",
    "\n",
    "# Single character string\n",
    "char = \"C\"\n",
    "\n",
    "# Multiline string using triple double-quotes (also works with triple single-quotes)\n",
    "multiline_str = \"\"\"This is a multiline string\n",
    "with more than one line of code.\"\"\"\n",
    "\n",
    "# Unicode string (emojis using Unicode code points)\n",
    "unicode = u\"\\U0001f600\\U0001F606\\U0001F923\"  # 😀😆🤣\n",
    "\n",
    "# Raw string - escap\n"
   ]
  },
  {
   "cell_type": "code",
   "execution_count": 52,
   "id": "3d313e85",
   "metadata": {
    "colab": {
     "base_uri": "https://localhost:8080/"
    },
    "id": "78PBluZub3vT",
    "outputId": "bb181fa0-3e65-4dd4-f2d2-54c9785baba1"
   },
   "outputs": [
    {
     "name": "stdout",
     "output_type": "stream",
     "text": [
      "a: 5\n",
      "b: 10\n"
     ]
    }
   ],
   "source": [
    "# 📌 Boolean values in arithmetic\n",
    "\n",
    "a = True + 4    # True is treated as 1 → 1 + 4 = 5\n",
    "b = False + 10  # False is treated as 0 → 0 + 10 = 10\n",
    "\n",
    "print(\"a:\", a)  # Output: a: 5\n",
    "print(\"b:\", b)  # Output: b: 10\n"
   ]
  },
  {
   "cell_type": "code",
   "execution_count": 53,
   "id": "4df4ba18",
   "metadata": {
    "colab": {
     "base_uri": "https://localhost:8080/"
    },
    "id": "g9ANbWx_b6q1",
    "outputId": "ad5546f4-62f8-4add-fdc9-b4c23625fd33"
   },
   "outputs": [
    {
     "name": "stdout",
     "output_type": "stream",
     "text": [
      "Program exe\n"
     ]
    }
   ],
   "source": [
    "# 📌 None in Python\n",
    "\n",
    "k = None  # 'None' is used to represent 'nothing' or 'no value'\n",
    "\n",
    "# Other variable assignments\n",
    "a = 5\n",
    "b = 6\n",
    "\n",
    "print('Program exe')  # Output: Program exe\n"
   ]
  },
  {
   "cell_type": "code",
   "execution_count": null,
   "id": "f9f0aa15",
   "metadata": {
    "id": "RivuEXxaH4dZ"
   },
   "outputs": [],
   "source": []
  }
 ],
 "metadata": {
  "colab": {
   "provenance": []
  },
  "kernelspec": {
   "display_name": "dsenv",
   "language": "python",
   "name": "python3"
  },
  "language_info": {
   "codemirror_mode": {
    "name": "ipython",
    "version": 3
   },
   "file_extension": ".py",
   "mimetype": "text/x-python",
   "name": "python",
   "nbconvert_exporter": "python",
   "pygments_lexer": "ipython3",
   "version": "3.10.18"
  }
 },
 "nbformat": 4,
 "nbformat_minor": 5
}
