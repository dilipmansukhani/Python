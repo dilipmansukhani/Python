{
  "nbformat": 4,
  "nbformat_minor": 0,
  "metadata": {
    "colab": {
      "provenance": []
    },
    "kernelspec": {
      "name": "python3",
      "display_name": "Python 3"
    },
    "language_info": {
      "name": "python"
    }
  },
  "cells": [
    {
      "cell_type": "markdown",
      "source": [
        "# Operators in Python\n",
        "\n",
        "- Arithmetic Operators\n",
        "- Relational Operators\n",
        "- Logical Operators\n",
        "- Bitwise Operators\n",
        "- Assignment Operators\n",
        "- Membership Operators"
      ],
      "metadata": {
        "id": "y1HMD4oI7FL7"
      }
    },
    {
      "cell_type": "code",
      "source": [
        "# Arithmetric Operators\n",
        "print(5+6)\n",
        "\n",
        "print(5-6)\n",
        "\n",
        "print(5*6)\n",
        "\n",
        "print(5/2)\n",
        "\n",
        "print(5//2)\n",
        "\n",
        "print(5%2)\n",
        "\n",
        "print(5**2)"
      ],
      "metadata": {
        "id": "a7cegk-f7U4-",
        "colab": {
          "base_uri": "https://localhost:8080/"
        },
        "outputId": "44ccd09a-ab8b-4cf3-c67f-b6bf03e4845a"
      },
      "execution_count": null,
      "outputs": [
        {
          "output_type": "stream",
          "name": "stdout",
          "text": [
            "11\n",
            "-1\n",
            "30\n",
            "2.5\n",
            "2\n",
            "1\n",
            "25\n"
          ]
        }
      ]
    },
    {
      "cell_type": "code",
      "source": [
        "# Relational Operators in Python are used to compare values.\n",
        "# They return a Boolean value: True or False\n",
        "\n",
        "print(4 > 5)      # Greater than: False, because 4 is not greater than 5\n",
        "\n",
        "print(4 < 5)      # Less than: True, because 4 is less than 5\n",
        "\n",
        "print(4 >= 4)     # Greater than or equal to: True, because 4 is equal to 4\n",
        "\n",
        "print(4 <= 4)     # Less than or equal to: True, because 4 is equal to 4\n",
        "\n",
        "print(4 == 4)     # Equal to: True, because both sides are equal\n",
        "\n",
        "print(4 != 4)     # Not equal to: False, because both sides are equal\n"
      ],
      "metadata": {
        "id": "TMIQKhFd7Y5A",
        "colab": {
          "base_uri": "https://localhost:8080/"
        },
        "outputId": "6e376728-9ab3-4e4a-9470-e22b19491c28"
      },
      "execution_count": null,
      "outputs": [
        {
          "output_type": "stream",
          "name": "stdout",
          "text": [
            "False\n",
            "True\n",
            "True\n",
            "True\n",
            "True\n",
            "False\n"
          ]
        }
      ]
    },
    {
      "cell_type": "code",
      "source": [
        "# Logical Operators\n",
        "print(1 and 0)\n",
        "\n",
        "print(1 or 0)\n",
        "# Logical Operators in Python are used to combine conditional statements.\n",
        "# They work with Boolean values and return either True (1) or False (0)\n",
        "\n",
        "print(1 and 0)    # AND: Returns 0 (False), because both must be True (1 and 0 -> False)\n",
        "\n",
        "print(1 or 0)     # OR: Returns 1 (True), because at least one is True (1 or 0 -> True)\n",
        "\n",
        "print(not 1)      # NOT: Reverses the value, so not 1 -> False (0)\n",
        "\n",
        "print(not 1)"
      ],
      "metadata": {
        "id": "vyxdjDbc7avq",
        "colab": {
          "base_uri": "https://localhost:8080/"
        },
        "outputId": "e7d36fb8-a3fb-4fa6-a5d8-02a64b9a2cee"
      },
      "execution_count": null,
      "outputs": [
        {
          "output_type": "stream",
          "name": "stdout",
          "text": [
            "0\n",
            "1\n",
            "0\n",
            "1\n",
            "False\n",
            "False\n"
          ]
        }
      ]
    },
    {
      "cell_type": "code",
      "source": [
        "# Bitwise Operators in Python operate on the binary representations of integers\n",
        "\n",
        "# Bitwise AND: Compares each bit of both numbers and returns 1 if both bits are 1\n",
        "# 2 in binary = 10, 3 in binary = 11 => 10 & 11 = 10 (which is 2)\n",
        "print(2 & 3)   # Output: 2\n",
        "\n",
        "# Bitwise OR: Compares each bit and returns 1 if at least one bit is 1\n",
        "# 10 | 11 = 11 (which is 3)\n",
        "print(2 | 3)   # Output: 3\n",
        "\n",
        "# Bitwise XOR: Returns 1 if bits are different\n",
        "# 10 ^ 11 = 01 (which is 1)\n",
        "print(2 ^ 3)   # Output: 1\n",
        "\n",
        "# Bitwise NOT: Inverts all bits (1's complement)\n",
        "# ~3 = -(3 + 1) = -4 (in two's complement representation)\n",
        "print(~3)      # Output: -4\n",
        "\n",
        "# Right Shift: Shifts bits to the right, removing bits from the right\n",
        "# 4 in binary = 100, shifting 2 bits right: 100 >> 2 = 001 = 1\n",
        "print(4 >> 2)  # Output: 1\n",
        "\n",
        "# Left Shift: Shifts bits to the left, adding zeros on the right\n",
        "# 5 in binary = 101, shifting 2 bits left: 101 << 2 = 10100 = 20\n",
        "print(5 << 2)  # Output: 20\n"
      ],
      "metadata": {
        "id": "H4KzpSke7d9l",
        "colab": {
          "base_uri": "https://localhost:8080/"
        },
        "outputId": "6ca71487-8533-404c-aba2-f69932119e0f"
      },
      "execution_count": null,
      "outputs": [
        {
          "output_type": "stream",
          "name": "stdout",
          "text": [
            "2\n",
            "3\n",
            "1\n",
            "-4\n",
            "1\n",
            "20\n"
          ]
        }
      ]
    },
    {
      "cell_type": "code",
      "source": [
        "# Assignment Operators\n",
        "\n",
        "# =\n",
        "# a = 2\n",
        "\n",
        "a = 2\n",
        "\n",
        "# a = a % 2\n",
        "a %= 2\n",
        "\n",
        "# a++ ++a\n",
        "# Assignment Operators are used to assign values to variables\n",
        "# and can also be combined with arithmetic operators.\n",
        "\n",
        "# = : Assigns the value on the right to the variable on the left\n",
        "a = 2     # a is now 2\n",
        "\n",
        "# %= : Modulus assignment - divides and stores the remainder\n",
        "a %= 2    # a = a % 2 => 2 % 2 = 0, so now a is 0\n",
        "\n",
        "# NOTE: Python does NOT support a++ or ++a like C/C++/Java\n",
        "# These will cause syntax errors or behave unexpectedly\n",
        "\n",
        "# a++  → Invalid in Python\n",
        "# ++a  → Valid, but it's just a double unary plus (no effect on value)\n",
        "# Example:\n",
        "++a      # This just evaluates to +(+a), still 0\n",
        "\n",
        "print(a)  # Output: 0\n",
        "\n",
        "print(a)"
      ],
      "metadata": {
        "id": "8EEm8eHO7gD_",
        "colab": {
          "base_uri": "https://localhost:8080/"
        },
        "outputId": "ce75eed4-56e1-420f-8789-c964f2ed4982"
      },
      "execution_count": null,
      "outputs": [
        {
          "output_type": "stream",
          "name": "stdout",
          "text": [
            "0\n",
            "0\n"
          ]
        }
      ]
    },
    {
      "cell_type": "code",
      "source": [
        "# Membership Operators are used to check if a value exists in a sequence (like string, list, tuple, etc.)\n",
        "\n",
        "# 'not in' checks whether a value is NOT present in a sequence\n",
        "# Here, 'D' is in 'Delhi', so 'D' not in 'Delhi' returns False\n",
        "print('D' not in 'Delhi')  # Output: False\n",
        "\n",
        "# 'in' checks whether a value is present in a sequence\n",
        "# Here, 1 is NOT in the list [2,3,4,5,6], so it returns False\n",
        "print(1 in [2,3,4,5,6])    # Output: False\n"
      ],
      "metadata": {
        "id": "LzrIz7I87h-W",
        "colab": {
          "base_uri": "https://localhost:8080/"
        },
        "outputId": "d883ca8d-24b5-4750-9807-7604bcd2224c"
      },
      "execution_count": null,
      "outputs": [
        {
          "output_type": "stream",
          "name": "stdout",
          "text": [
            "False\n",
            "False\n"
          ]
        }
      ]
    },
    {
      "cell_type": "code",
      "source": [
        "# Program: Find the sum of digits of a 3-digit number entered by the user\n",
        "\n",
        "# Get input from the user and convert it to an integer\n",
        "number = int(input('Enter a 3-digit number: '))  # e.g., 345\n",
        "\n",
        "# Extract the last digit (ones place)\n",
        "# 345 % 10 = 5\n",
        "a = number % 10\n",
        "\n",
        "# Remove the last digit from the number\n",
        "# 345 // 10 = 34\n",
        "number = number // 10\n",
        "\n",
        "# Extract the second digit (tens place)\n",
        "# 34 % 10 = 4\n",
        "b = number % 10\n",
        "\n",
        "# Remove the second digit\n",
        "# 34 // 10 = 3\n",
        "number = number // 10\n",
        "\n",
        "# The remaining digit is the hundreds place\n",
        "# 3 % 10 = 3\n",
        "c = number % 10\n",
        "\n",
        "# Calculate and print the sum of the digits\n",
        "print(\"Sum of digits:\", a + b + c)  # Output: 12 (for 345)\n"
      ],
      "metadata": {
        "id": "C-LoVrYGDEuB",
        "colab": {
          "base_uri": "https://localhost:8080/"
        },
        "outputId": "4bc2f263-f609-4313-f3db-344dffb4c155"
      },
      "execution_count": null,
      "outputs": [
        {
          "output_type": "stream",
          "name": "stdout",
          "text": [
            "Enter a 3-digit number: 898\n",
            "Sum of digits: 25\n"
          ]
        }
      ]
    },
    {
      "cell_type": "markdown",
      "source": [
        "# If-else in Python"
      ],
      "metadata": {
        "id": "Iq7CzVFs7mWT"
      }
    },
    {
      "cell_type": "code",
      "source": [
        "# Login Program with Proper Indentation\n",
        "# Credentials:\n",
        "# Email -> nitish.campusx@gmail.com\n",
        "# Password -> 1234\n",
        "\n",
        "# Get user input\n",
        "email = input('Enter email: ')\n",
        "password = input('Enter password: ')\n",
        "\n",
        "# Check if both email and password are correct\n",
        "if email == 'nitish.campusx@gmail.com' and password == '1234':\n",
        "    print('Welcome')\n",
        "\n",
        "# Check if email is correct but password is wrong\n",
        "elif email == 'nitish.campusx@gmail.com' and password != '1234':\n",
        "    print('Incorrect password')\n",
        "\n",
        "    # Ask user to re-enter password\n",
        "    password = input('Enter password again: ')\n",
        "\n",
        "    # Re-check the new password\n",
        "    if password == '1234':\n",
        "        print('Welcome, finally!')\n",
        "    else:\n",
        "        print('Beta tumse na ho paayega!')\n",
        "\n",
        "# If email itself is incorrect\n",
        "else:\n",
        "    print('Not correct')\n"
      ],
      "metadata": {
        "id": "dGz-83pN7oxe",
        "colab": {
          "base_uri": "https://localhost:8080/"
        },
        "outputId": "6464e281-5dcb-48e2-80fc-201937e5df14"
      },
      "execution_count": null,
      "outputs": [
        {
          "output_type": "stream",
          "name": "stdout",
          "text": [
            "Enter email: nnikj\n",
            "Enter password: jijoi\n",
            "Not correct\n"
          ]
        }
      ]
    },
    {
      "cell_type": "code",
      "source": [
        "# if-else examples\n",
        "# 1. Find the min of 3 given numbers\n",
        "# 2. Menu Driven Program"
      ],
      "metadata": {
        "id": "qo_1tY2ABlAX"
      },
      "execution_count": null,
      "outputs": []
    },
    {
      "cell_type": "code",
      "source": [
        "# Program to find the minimum of 3 numbers\n",
        "\n",
        "a = int(input('Enter first number: '))\n",
        "b = int(input('Enter second number: '))\n",
        "c = int(input('Enter third number: '))\n",
        "\n",
        "# Check if 'a' is smaller than both 'b' and 'c'\n",
        "if a < b and a < c:\n",
        "    print('Smallest is', a)\n",
        "\n",
        "# If not, check if 'b' is smaller than 'c'\n",
        "elif b < c:\n",
        "    print('Smallest is', b)\n",
        "\n",
        "# Otherwise, 'c' is the smallest\n",
        "else:\n",
        "    print('Smallest is', c)\n",
        "\n"
      ],
      "metadata": {
        "colab": {
          "base_uri": "https://localhost:8080/"
        },
        "id": "gQpTJbMH3W6_",
        "outputId": "41adfb9b-21b3-477a-afdf-41540fb146b4"
      },
      "execution_count": null,
      "outputs": [
        {
          "output_type": "stream",
          "name": "stdout",
          "text": [
            "Enter first number: 7\n",
            "Enter second number: 6\n",
            "Enter third number: 6\n",
            "Smallest is 6\n"
          ]
        }
      ]
    },
    {
      "cell_type": "code",
      "source": [
        "# Menu Driven Program for simple banking options\n",
        "\n",
        "menu = input(\"\"\"\n",
        "Hi! How can I help you?\n",
        "1. Enter 1 for PIN change\n",
        "2. Enter 2 for balance check\n",
        "3. Enter 3 for withdrawal\n",
        "4. Enter 4 for exit\n",
        "Please enter your choice (1-4):\n",
        "\"\"\")\n",
        "\n",
        "if menu == '1':\n",
        "    print('You selected PIN change.')\n",
        "    # Add PIN change logic here\n",
        "\n",
        "elif menu == '2':\n",
        "    print('You selected balance check.')\n",
        "    # Add balance check logic here\n",
        "\n",
        "elif menu == '3':\n",
        "    print('You selected withdrawal.')\n",
        "    # Add withdrawal logic here\n",
        "\n",
        "elif menu == '4':\n",
        "    print('Exiting... Thank you!')\n",
        "\n",
        "else:\n",
        "    print('Invalid choice. Please select a valid option.')\n"
      ],
      "metadata": {
        "colab": {
          "base_uri": "https://localhost:8080/"
        },
        "id": "hgNqlC5C4jqF",
        "outputId": "4471ccbb-e3f9-4a71-c38e-f781e951f19b"
      },
      "execution_count": null,
      "outputs": [
        {
          "output_type": "stream",
          "name": "stdout",
          "text": [
            "\n",
            "Hi! How can I help you?\n",
            "1. Enter 1 for PIN change\n",
            "2. Enter 2 for balance check\n",
            "3. Enter 3 for withdrawal\n",
            "4. Enter 4 for exit\n",
            "Please enter your choice (1-4): \n",
            "112\n",
            "Invalid choice. Please select a valid option.\n"
          ]
        }
      ]
    },
    {
      "cell_type": "markdown",
      "source": [
        "# Modules in Python\n",
        "\n",
        "- math\n",
        "- keywords\n",
        "- random\n",
        "- datetime"
      ],
      "metadata": {
        "id": "532_6mva8A6C"
      }
    },
    {
      "cell_type": "code",
      "source": [
        "# Import the math module to access mathematical functions\n",
        "import math\n",
        "\n",
        "# Calculate the square root of 196\n",
        "result = math.sqrt(196)\n",
        "\n",
        "print(\"Square root of 196 is:\", result)  # Output: 14.0\n"
      ],
      "metadata": {
        "id": "x5VXt7wv8G4o",
        "colab": {
          "base_uri": "https://localhost:8080/"
        },
        "outputId": "816e4e66-d41e-4ac9-ee65-3551a74a6630"
      },
      "execution_count": null,
      "outputs": [
        {
          "output_type": "stream",
          "name": "stdout",
          "text": [
            "Square root of 196 is: 14.0\n"
          ]
        }
      ]
    },
    {
      "cell_type": "code",
      "source": [
        "# Import the keyword module to access Python keywords\n",
        "import keyword\n",
        "\n",
        "# Print the list of all Python keywords\n",
        "print(keyword.kwlist)\n"
      ],
      "metadata": {
        "id": "FLgAX9pz8HBT",
        "colab": {
          "base_uri": "https://localhost:8080/"
        },
        "outputId": "111bd3e1-cf2a-469c-87ca-0746780b4df1"
      },
      "execution_count": null,
      "outputs": [
        {
          "output_type": "stream",
          "name": "stdout",
          "text": [
            "['False', 'None', 'True', 'and', 'as', 'assert', 'async', 'await', 'break', 'class', 'continue', 'def', 'del', 'elif', 'else', 'except', 'finally', 'for', 'from', 'global', 'if', 'import', 'in', 'is', 'lambda', 'nonlocal', 'not', 'or', 'pass', 'raise', 'return', 'try', 'while', 'with', 'yield']\n"
          ]
        }
      ]
    },
    {
      "cell_type": "code",
      "source": [
        "# Import the random module to generate random numbers\n",
        "import random\n",
        "\n",
        "# Generate a random integer between 1 and 100 (both inclusive)\n",
        "random_number = random.randint(1, 100)\n",
        "\n",
        "print(\"Random number between 1 and 100:\", random_number)\n"
      ],
      "metadata": {
        "id": "R0dWpe-w8HSZ"
      },
      "execution_count": null,
      "outputs": []
    },
    {
      "cell_type": "code",
      "source": [
        "# Import datetime module\n",
        "import datetime\n",
        "\n",
        "# Get current date and time\n",
        "now = datetime.datetime.now()\n",
        "\n",
        "print(\"Current date and time:\", now)\n",
        "\n",
        "# You can also get only the date or time:\n",
        "print(\"Current date:\", now.date())\n",
        "print(\"Current time:\", now.time())\n"
      ],
      "metadata": {
        "id": "XNHWXsM0iFn3"
      },
      "execution_count": null,
      "outputs": []
    },
    {
      "cell_type": "markdown",
      "source": [
        "# Loops in Python\n",
        "\n",
        "- Need for loops\n",
        "- While Loop\n",
        "- For Loop"
      ],
      "metadata": {
        "id": "2Ow6_gWG7ukc"
      }
    },
    {
      "cell_type": "code",
      "source": [
        "# While loop example -> program to print the table\n",
        "# Program -> Sum of all digits of a given number\n",
        "# Program -> keep accepting numbers from users till he/she enters a 0 and then find the avg"
      ],
      "metadata": {
        "id": "Ig7NIb7L7txg"
      },
      "execution_count": null,
      "outputs": []
    },
    {
      "cell_type": "code",
      "source": [
        "# Program to print multiplication table of a given number\n",
        "\n",
        "number = int(input('Enter the number: '))\n",
        "\n",
        "i = 1\n",
        "\n",
        "while i < 11:\n",
        "    print(number, '*', i, '=', number * i)\n",
        "    i += 1\n"
      ],
      "metadata": {
        "id": "brWSxgiu9rrQ"
      },
      "execution_count": null,
      "outputs": []
    },
    {
      "cell_type": "code",
      "source": [
        "x = 1\n",
        "\n",
        "while x < 3:\n",
        "    print(x)\n",
        "    x += 1\n",
        "else:\n",
        "    # This runs after the loop finishes without a break\n",
        "    print('Limit crossed')\n"
      ],
      "metadata": {
        "id": "Ltsr9n3H73fp"
      },
      "execution_count": null,
      "outputs": []
    },
    {
      "cell_type": "code",
      "source": [
        "# Guessing game\n",
        "\n",
        "# generate a random integer between 1 and 100\n",
        "import random\n",
        "jackpot = random.randint(1,100)\n",
        "\n",
        "guess = int(input('guess karo'))\n",
        "counter = 1\n",
        "while guess != jackpot:\n",
        "  if guess < jackpot:\n",
        "    print('galat!guess higher')\n",
        "  else:\n",
        "    print('galat!guess lower')\n",
        "\n",
        "  guess = int(input('guess karo'))\n",
        "  counter += 1\n",
        "\n",
        "else:\n",
        "  print('correct guess')\n",
        "  print('attempts',counter)\n",
        "\n",
        "\n"
      ],
      "metadata": {
        "id": "29y5r2cr8MRP"
      },
      "execution_count": null,
      "outputs": []
    },
    {
      "cell_type": "code",
      "source": [
        "# For loop demo\n",
        "\n",
        "for i in [1, 2, 3, 4, 5]:\n",
        "    print(i)\n"
      ],
      "metadata": {
        "id": "bjjx0fMr8SWh",
        "colab": {
          "base_uri": "https://localhost:8080/"
        },
        "outputId": "05aa9656-22d8-4bd1-d530-54fe2c8d1aae"
      },
      "execution_count": null,
      "outputs": [
        {
          "output_type": "stream",
          "name": "stdout",
          "text": [
            "1\n",
            "2\n",
            "3\n",
            "4\n",
            "5\n"
          ]
        }
      ]
    },
    {
      "cell_type": "code",
      "source": [
        "for i in range(1, 6):  # range from 1 to 5 inclusive\n",
        "    print(i)\n"
      ],
      "metadata": {
        "id": "vRhZXu9crE8I"
      },
      "execution_count": null,
      "outputs": []
    },
    {
      "cell_type": "code",
      "source": [
        "# For loop examples"
      ],
      "metadata": {
        "id": "5ZLWEyFn8g1R"
      },
      "execution_count": null,
      "outputs": []
    },
    {
      "cell_type": "markdown",
      "source": [
        "### Program - The current population of a town is 10000. The population of the town is increasing at the rate of 10% per year. You have to write a program to find out the population at the end of each of the last 10 years."
      ],
      "metadata": {
        "id": "EXnzCtohWx2V"
      }
    },
    {
      "cell_type": "code",
      "source": [
        "# Initial population\n",
        "population = 10000\n",
        "\n",
        "# Growth rate per year (10%)\n",
        "growth_rate = 0.10\n",
        "\n",
        "print(\"Year-wise population for the last 10 years:\")\n",
        "\n",
        "for year in range(1, 11):\n",
        "    # Increase population by 10%\n",
        "    population = population + (population * growth_rate)\n",
        "    print(f\"After year {year}: {int(population)}\")\n"
      ],
      "metadata": {
        "id": "Nc_6lslRW03g"
      },
      "execution_count": null,
      "outputs": []
    }
  ]
}