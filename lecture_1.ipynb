{
 "cells": [
  {
   "cell_type": "markdown",
   "id": "41f74731",
   "metadata": {},
   "source": [
    "why python"
   ]
  },
  {
   "cell_type": "code",
   "execution_count": null,
   "id": "20016251",
   "metadata": {},
   "outputs": [],
   "source": [
    "\n",
    "# -Design philosphy -- very easy syntex \n",
    "#  easy to learn\n",
    "# proximity with maths\n",
    "\n",
    "# NOTE- python is a case sensitive languge"
   ]
  },
  {
   "cell_type": "markdown",
   "id": "7cf5adb7",
   "metadata": {},
   "source": [
    "Python Output"
   ]
  },
  {
   "cell_type": "code",
   "execution_count": 1,
   "id": "fd4e01b5",
   "metadata": {},
   "outputs": [
    {
     "name": "stdout",
     "output_type": "stream",
     "text": [
      "hello World\n",
      "7\n",
      "7.7\n",
      "True\n",
      "hello 1 2.2 True\n"
     ]
    }
   ],
   "source": [
    "print('hello World')\n",
    "# print(salman khan) # not  in inverted comma --error only for text\n",
    "print(7) \n",
    "print(7.7)\n",
    "print(True)\n",
    "print('hello',1,2.2,True)\n"
   ]
  },
  {
   "cell_type": "markdown",
   "id": "26b7d9d3",
   "metadata": {},
   "source": [
    "seperater"
   ]
  },
  {
   "cell_type": "code",
   "execution_count": 3,
   "id": "adb64b9f",
   "metadata": {},
   "outputs": [
    {
     "name": "stdout",
     "output_type": "stream",
     "text": [
      "hello-6-5.5-True\n",
      "hello/6/5.5/True\n",
      "hello\n",
      "world\n",
      "hello-world\n"
     ]
    }
   ],
   "source": [
    "print('hello',6,5.5,True,sep='-')   # default --> sep=''\n",
    "print('hello',6,5.5,True,sep='/')   \n",
    "\n",
    "print('hello') \n",
    "print('world')\n",
    "\n",
    "#line change-   by end  \n",
    "print('hello', end='-')  # default -->   end='\\n' \n",
    "print('world')\n"
   ]
  },
  {
   "cell_type": "markdown",
   "id": "e13ea2ed",
   "metadata": {},
   "source": [
    "DATA TYPES"
   ]
  },
  {
   "cell_type": "code",
   "execution_count": 2,
   "id": "2231c6a1",
   "metadata": {},
   "outputs": [
    {
     "name": "stdout",
     "output_type": "stream",
     "text": [
      "5\n",
      "5.5\n",
      "True\n",
      "False\n",
      "hello world\n",
      "(5+6j)\n",
      "[1, 3, 2, 3, 2]\n",
      "(1, 2, 3, 2, 3)\n",
      "{'Name': 'Dilip', 'gender': 'Male'}\n"
     ]
    }
   ],
   "source": [
    "#  -Integer\n",
    "print(5)\n",
    "\n",
    "# -Decimal\n",
    "print(5.5)\n",
    "\n",
    "# -Boolean- True or Flase\n",
    "print(True)\n",
    "print(False)\n",
    "\n",
    "# -String/text\n",
    "print('hello world')\n",
    "\n",
    "# -complex\n",
    "print(5+6j)\n",
    "  \n",
    "# -List  -- c --aray\n",
    "print([1,3,2,3,2,])\n",
    "\n",
    "# -sets\n",
    "print((1,2,3,2,3))\n",
    "\n",
    "# ddictnory -key value pair\n",
    "print({'Name':'Dilip','gender':'Male'})\n"
   ]
  },
  {
   "cell_type": "code",
   "execution_count": 5,
   "id": "9f4537f0",
   "metadata": {},
   "outputs": [
    {
     "data": {
      "text/plain": [
       "list"
      ]
     },
     "execution_count": 5,
     "metadata": {},
     "output_type": "execute_result"
    }
   ],
   "source": [
    "# type() --- function\n",
    "type([1,2,3,4])"
   ]
  },
  {
   "cell_type": "markdown",
   "id": "497a45ee",
   "metadata": {},
   "source": [
    "\n",
    "Varibale  \n",
    "-it is a container to store value which we dont know  "
   ]
  },
  {
   "cell_type": "code",
   "execution_count": null,
   "id": "b27eab48",
   "metadata": {},
   "outputs": [
    {
     "name": "stdout",
     "output_type": "stream",
     "text": [
      "Dilip\n",
      "11\n"
     ]
    }
   ],
   "source": [
    "# Dynemic Typing - we do not tell the actual data typ of the variable it\n",
    "#  automatic adjusct in python\n",
    "\n",
    "name ='Dilip'\n",
    "print(name)\n",
    "\n",
    "a=5\n",
    "b=6\n",
    "print(a+b)\n"
   ]
  },
  {
   "cell_type": "code",
   "execution_count": null,
   "id": "af8defb9",
   "metadata": {},
   "outputs": [
    {
     "name": "stdout",
     "output_type": "stream",
     "text": [
      "5\n",
      "hello\n"
     ]
    }
   ],
   "source": [
    "# dynamic Binding-----> Data change hota rheta h --In Python\n",
    "a = 5\n",
    "print (a)  \n",
    "a='hello'\n",
    "print(a)\n",
    "\n",
    "# Static Binding ---->  Data type change ni hota ek bar jo bana diya wahi rheta h\n",
    "int a= 5    # in c or other language \n",
    " \n"
   ]
  },
  {
   "cell_type": "code",
   "execution_count": 1,
   "id": "077a2947",
   "metadata": {},
   "outputs": [
    {
     "name": "stdout",
     "output_type": "stream",
     "text": [
      "1 2 3\n",
      "1 2 3\n",
      "5 5 5\n"
     ]
    }
   ],
   "source": [
    "# creating multiple variable\n",
    "\n",
    "# 1st way\n",
    "a=1\n",
    "b=2\n",
    "c=3\n",
    "print(a,b,c)\n",
    "\n",
    "# 2nd way\n",
    "a,b,c =1,2,3\n",
    "print(a,b,c)\n",
    "\n",
    "# 3rd way  \n",
    "a=b=c=5\n",
    "print(a,b,c)"
   ]
  },
  {
   "cell_type": "markdown",
   "id": "7a151501",
   "metadata": {},
   "source": [
    "Keywords and Identifiers"
   ]
  },
  {
   "cell_type": "code",
   "execution_count": null,
   "id": "d0a78d3e",
   "metadata": {},
   "outputs": [],
   "source": [
    "# keywords ---> reserve words --33keywords -- false, true, else, for ,if ,def\n",
    "# identifiers-->  Class name ya varible ka name .\n",
    "# set of rules\n",
    "# 1. start with alphabet and no number and special character use\n",
    "# only _ under scrore uses as a special character\n",
    "    "
   ]
  }
 ],
 "metadata": {
  "kernelspec": {
   "display_name": "Python 3",
   "language": "python",
   "name": "python3"
  },
  "language_info": {
   "codemirror_mode": {
    "name": "ipython",
    "version": 3
   },
   "file_extension": ".py",
   "mimetype": "text/x-python",
   "name": "python",
   "nbconvert_exporter": "python",
   "pygments_lexer": "ipython3",
   "version": "3.13.3"
  }
 },
 "nbformat": 4,
 "nbformat_minor": 5
}
